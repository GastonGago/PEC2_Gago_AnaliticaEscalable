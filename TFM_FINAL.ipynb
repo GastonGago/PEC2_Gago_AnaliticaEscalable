{
  "nbformat": 4,
  "nbformat_minor": 0,
  "metadata": {
    "colab": {
      "provenance": [],
      "machine_shape": "hm",
      "gpuClass": "premium",
      "gpuType": "T4",
      "authorship_tag": "ABX9TyOUIG9wIsWkPb8gQuo36jOU",
      "include_colab_link": true
    },
    "kernelspec": {
      "name": "python3",
      "display_name": "Python 3"
    },
    "language_info": {
      "name": "python"
    },
    "accelerator": "GPU",
    "gpuClass": "premium"
  },
  "cells": [
    {
      "cell_type": "markdown",
      "metadata": {
        "id": "view-in-github",
        "colab_type": "text"
      },
      "source": [
        "<a href=\"https://colab.research.google.com/github/GastonGago/PEC2_Gago_AnaliticaEscalable/blob/main/TFM_FINAL.ipynb\" target=\"_parent\"><img src=\"https://colab.research.google.com/assets/colab-badge.svg\" alt=\"Open In Colab\"/></a>"
      ]
    },
    {
      "cell_type": "code",
      "source": [
        "gpu_info = !nvidia-smi\n",
        "gpu_info = '\\n'.join(gpu_info)\n",
        "if gpu_info.find('failed') >= 0:\n",
        "  print('Not connected to a GPU')\n",
        "else:\n",
        "  print(gpu_info)"
      ],
      "metadata": {
        "colab": {
          "base_uri": "https://localhost:8080/"
        },
        "id": "Uih0f1GD4yhJ",
        "outputId": "1cd694dc-151b-49b7-8fd6-cd0de975b30a"
      },
      "execution_count": 1,
      "outputs": [
        {
          "output_type": "stream",
          "name": "stdout",
          "text": [
            "Thu Jul 13 05:14:05 2023       \n",
            "+-----------------------------------------------------------------------------+\n",
            "| NVIDIA-SMI 525.105.17   Driver Version: 525.105.17   CUDA Version: 12.0     |\n",
            "|-------------------------------+----------------------+----------------------+\n",
            "| GPU  Name        Persistence-M| Bus-Id        Disp.A | Volatile Uncorr. ECC |\n",
            "| Fan  Temp  Perf  Pwr:Usage/Cap|         Memory-Usage | GPU-Util  Compute M. |\n",
            "|                               |                      |               MIG M. |\n",
            "|===============================+======================+======================|\n",
            "|   0  Tesla T4            Off  | 00000000:00:04.0 Off |                    0 |\n",
            "| N/A   41C    P8     9W /  70W |      0MiB / 15360MiB |      0%      Default |\n",
            "|                               |                      |                  N/A |\n",
            "+-------------------------------+----------------------+----------------------+\n",
            "                                                                               \n",
            "+-----------------------------------------------------------------------------+\n",
            "| Processes:                                                                  |\n",
            "|  GPU   GI   CI        PID   Type   Process name                  GPU Memory |\n",
            "|        ID   ID                                                   Usage      |\n",
            "|=============================================================================|\n",
            "|  No running processes found                                                 |\n",
            "+-----------------------------------------------------------------------------+\n"
          ]
        }
      ]
    },
    {
      "cell_type": "code",
      "source": [
        "from psutil import virtual_memory\n",
        "ram_gb = virtual_memory().total / 1e9\n",
        "print('Your runtime has {:.1f} gigabytes of available RAM\\n'.format(ram_gb))\n",
        "\n",
        "if ram_gb < 20:\n",
        "  print('Not using a high-RAM runtime')\n",
        "else:\n",
        "  print('You are using a high-RAM runtime!')"
      ],
      "metadata": {
        "colab": {
          "base_uri": "https://localhost:8080/"
        },
        "id": "lQXn18Qo4ykz",
        "outputId": "bdf77b94-94b2-4d39-f253-8e4ec7c150d6"
      },
      "execution_count": 4,
      "outputs": [
        {
          "output_type": "stream",
          "name": "stdout",
          "text": [
            "Your runtime has 27.3 gigabytes of available RAM\n",
            "\n",
            "You are using a high-RAM runtime!\n"
          ]
        }
      ]
    },
    {
      "cell_type": "code",
      "execution_count": 5,
      "metadata": {
        "id": "8EizbZc53Icl"
      },
      "outputs": [],
      "source": [
        "import pandas as pd\n",
        "\n",
        "df = pd.read_csv('tfmdata.csv', delimiter=';', header=1)\n"
      ]
    },
    {
      "cell_type": "code",
      "source": [
        "df.shape"
      ],
      "metadata": {
        "colab": {
          "base_uri": "https://localhost:8080/"
        },
        "id": "bYFEE8M9qLrM",
        "outputId": "2eae131d-d81c-42a7-fbed-dfdd05373ee0"
      },
      "execution_count": 6,
      "outputs": [
        {
          "output_type": "execute_result",
          "data": {
            "text/plain": [
              "(20119, 41)"
            ]
          },
          "metadata": {},
          "execution_count": 6
        }
      ]
    },
    {
      "cell_type": "code",
      "source": [
        "df.info"
      ],
      "metadata": {
        "colab": {
          "base_uri": "https://localhost:8080/"
        },
        "id": "w7exscE7qQRt",
        "outputId": "6bb6c881-1021-4137-cca5-ffe88d477ec1"
      },
      "execution_count": 7,
      "outputs": [
        {
          "output_type": "execute_result",
          "data": {
            "text/plain": [
              "<bound method DataFrame.info of        IdLugarSalida            Lugar Salida  IdTranspSalidad  \\\n",
              "0                  4                    Chuy                2   \n",
              "1                 18              Río Branco                2   \n",
              "2                  3  Aeropuerto de Carrasco                1   \n",
              "3                  3  Aeropuerto de Carrasco                1   \n",
              "4                  4                    Chuy                2   \n",
              "...              ...                     ...              ...   \n",
              "20114              7             Fray Bentos                2   \n",
              "20115              3  Aeropuerto de Carrasco                1   \n",
              "20116             10                   Salto                2   \n",
              "20117              7             Fray Bentos                2   \n",
              "20118              8                Paysandú                2   \n",
              "\n",
              "      Transporte Internacional de Salida FechaSalida  IdFecSalida  \\\n",
              "0                         Terrestre Auto  29/12/2016        13512   \n",
              "1                         Terrestre Auto  29/12/2016        13512   \n",
              "2                                  Aereo    3/1/2017        13517   \n",
              "3                                  Aereo    6/1/2017        13520   \n",
              "4                         Terrestre Auto    2/1/2017        13516   \n",
              "...                                  ...         ...          ...   \n",
              "20114                     Terrestre Auto  27/12/2022        15701   \n",
              "20115                              Aereo  25/12/2022        15699   \n",
              "20116                     Terrestre Auto  27/12/2022        15701   \n",
              "20117                     Terrestre Auto  26/12/2022        15700   \n",
              "20118                     Terrestre Auto   11/1/2023        15716   \n",
              "\n",
              "      FechaEntrada  IdFecEntrada  IdNacionalidad     Pais  ...  \\\n",
              "0        10/1/2017         13524               1  Uruguay  ...   \n",
              "1         9/1/2017         13523               1  Uruguay  ...   \n",
              "2        27/1/2017         13541               1  Uruguay  ...   \n",
              "3        21/1/2017         13535               1  Uruguay  ...   \n",
              "4        25/1/2017         13539               1  Uruguay  ...   \n",
              "...            ...           ...             ...      ...  ...   \n",
              "20114     7/1/2023         15712               1  Uruguay  ...   \n",
              "20115    10/1/2023         15715               1  Uruguay  ...   \n",
              "20116     5/1/2023         15710               1  Uruguay  ...   \n",
              "20117   30/12/2022         15704               1  Uruguay  ...   \n",
              "20118    11/1/2023         15716               1  Uruguay  ...   \n",
              "\n",
              "       GastoAlojamiento GastoAlimentacion  GastoTransporteInternac  \\\n",
              "0                981.39            350.50                      0.0   \n",
              "1               1100.00            880.00                      0.0   \n",
              "2                  0.00           1129.75                    214.0   \n",
              "3               2228.41           1782.73                    117.0   \n",
              "4               1800.00            933.12                      0.0   \n",
              "...                 ...               ...                      ...   \n",
              "20114            800.00            416.44                      0.0   \n",
              "20115              0.00           2309.63                   2400.0   \n",
              "20116            600.00            300.00                      0.0   \n",
              "20117            323.82            200.00                      0.0   \n",
              "20118              0.00             12.69                      0.0   \n",
              "\n",
              "      GatoTransporteLocal  GastoCultural GastoTours  GastoCompras GastoResto  \\\n",
              "0                  175.24           0.00       0.00          0.00       0.00   \n",
              "1                  385.00         300.00     235.00        210.00     165.00   \n",
              "2                  836.85         523.03     256.29       2039.83       0.00   \n",
              "3                  779.94         445.68       0.00        311.98     334.26   \n",
              "4                  408.24         152.14       0.00        106.50       0.00   \n",
              "...                   ...            ...        ...           ...        ...   \n",
              "20114              166.34         400.00       0.00        250.81     166.40   \n",
              "20115                0.00         540.88     107.80        754.60    1287.08   \n",
              "20116             1092.21         200.00       0.00        469.17    1179.10   \n",
              "20117               40.00         197.16       0.00        350.00     393.03   \n",
              "20118                0.00           0.00       0.00         88.86       0.00   \n",
              "\n",
              "         Coef CoefTot  \n",
              "0       89.61  448.05  \n",
              "1       96.18  480.88  \n",
              "2      129.04  258.09  \n",
              "3      129.04  387.13  \n",
              "4       89.61  448.05  \n",
              "...       ...     ...  \n",
              "20114  101.75  101.76  \n",
              "20115  247.33  247.58  \n",
              "20116   79.35   78.43  \n",
              "20117   79.35   78.43  \n",
              "20118   79.35   78.43  \n",
              "\n",
              "[20119 rows x 41 columns]>"
            ]
          },
          "metadata": {},
          "execution_count": 7
        }
      ]
    },
    {
      "cell_type": "code",
      "source": [
        "# Supongamos que tienes un DataFrame llamado df\n",
        "column_names = df.columns\n",
        "\n",
        "# Imprime los nombres de las columnas\n",
        "print(column_names)"
      ],
      "metadata": {
        "colab": {
          "base_uri": "https://localhost:8080/"
        },
        "id": "GutBG8XsW7ak",
        "outputId": "b90bc9b8-b18e-4ba5-e136-aeb824b82ea1"
      },
      "execution_count": 8,
      "outputs": [
        {
          "output_type": "stream",
          "name": "stdout",
          "text": [
            "Index(['IdLugarSalida', 'Lugar Salida', 'IdTranspSalidad',\n",
            "       'Transporte Internacional de Salida', 'FechaSalida', 'IdFecSalida',\n",
            "       'FechaEntrada', 'IdFecEntrada', 'IdNacionalidad', 'Pais',\n",
            "       'IdDeptoResidencia', 'Departamento', 'IdMotivo', 'Motivo',\n",
            "       'IdOcupacion', 'Ocupacion', 'IdNivelEstudio', 'Estudio', 'IdDestino',\n",
            "       'Destino', 'IdAlojamiento', 'Alojamiento', 'IdLugarIngreso',\n",
            "       'Lugar Ingreso', 'IdTranspIngreso',\n",
            "       'Transporte Internacional de Ingreso', 'IdTranspLocal',\n",
            "       'Trasporte Local', 'Estadia', 'Gente', 'GastoTotal', 'GastoAlojamiento',\n",
            "       'GastoAlimentacion', 'GastoTransporteInternac', 'GatoTransporteLocal',\n",
            "       'GastoCultural', 'GastoTours', 'GastoCompras', 'GastoResto', 'Coef',\n",
            "       'CoefTot'],\n",
            "      dtype='object')\n"
          ]
        }
      ]
    },
    {
      "cell_type": "code",
      "source": [
        "df.tail()"
      ],
      "metadata": {
        "colab": {
          "base_uri": "https://localhost:8080/",
          "height": 404
        },
        "id": "DTOj-la5owsA",
        "outputId": "cc104c07-7c4b-48c9-ed61-21a4c4cf960e"
      },
      "execution_count": 9,
      "outputs": [
        {
          "output_type": "execute_result",
          "data": {
            "text/plain": [
              "       IdLugarSalida            Lugar Salida  IdTranspSalidad  \\\n",
              "20114              7             Fray Bentos                2   \n",
              "20115              3  Aeropuerto de Carrasco                1   \n",
              "20116             10                   Salto                2   \n",
              "20117              7             Fray Bentos                2   \n",
              "20118              8                Paysandú                2   \n",
              "\n",
              "      Transporte Internacional de Salida FechaSalida  IdFecSalida  \\\n",
              "20114                     Terrestre Auto  27/12/2022        15701   \n",
              "20115                              Aereo  25/12/2022        15699   \n",
              "20116                     Terrestre Auto  27/12/2022        15701   \n",
              "20117                     Terrestre Auto  26/12/2022        15700   \n",
              "20118                     Terrestre Auto   11/1/2023        15716   \n",
              "\n",
              "      FechaEntrada  IdFecEntrada  IdNacionalidad     Pais  ...  \\\n",
              "20114     7/1/2023         15712               1  Uruguay  ...   \n",
              "20115    10/1/2023         15715               1  Uruguay  ...   \n",
              "20116     5/1/2023         15710               1  Uruguay  ...   \n",
              "20117   30/12/2022         15704               1  Uruguay  ...   \n",
              "20118    11/1/2023         15716               1  Uruguay  ...   \n",
              "\n",
              "       GastoAlojamiento GastoAlimentacion  GastoTransporteInternac  \\\n",
              "20114            800.00            416.44                      0.0   \n",
              "20115              0.00           2309.63                   2400.0   \n",
              "20116            600.00            300.00                      0.0   \n",
              "20117            323.82            200.00                      0.0   \n",
              "20118              0.00             12.69                      0.0   \n",
              "\n",
              "      GatoTransporteLocal  GastoCultural GastoTours  GastoCompras GastoResto  \\\n",
              "20114              166.34         400.00        0.0        250.81     166.40   \n",
              "20115                0.00         540.88      107.8        754.60    1287.08   \n",
              "20116             1092.21         200.00        0.0        469.17    1179.10   \n",
              "20117               40.00         197.16        0.0        350.00     393.03   \n",
              "20118                0.00           0.00        0.0         88.86       0.00   \n",
              "\n",
              "         Coef CoefTot  \n",
              "20114  101.75  101.76  \n",
              "20115  247.33  247.58  \n",
              "20116   79.35   78.43  \n",
              "20117   79.35   78.43  \n",
              "20118   79.35   78.43  \n",
              "\n",
              "[5 rows x 41 columns]"
            ],
            "text/html": [
              "\n",
              "\n",
              "  <div id=\"df-645af50c-ee75-4032-9ebb-ba3842a9c008\">\n",
              "    <div class=\"colab-df-container\">\n",
              "      <div>\n",
              "<style scoped>\n",
              "    .dataframe tbody tr th:only-of-type {\n",
              "        vertical-align: middle;\n",
              "    }\n",
              "\n",
              "    .dataframe tbody tr th {\n",
              "        vertical-align: top;\n",
              "    }\n",
              "\n",
              "    .dataframe thead th {\n",
              "        text-align: right;\n",
              "    }\n",
              "</style>\n",
              "<table border=\"1\" class=\"dataframe\">\n",
              "  <thead>\n",
              "    <tr style=\"text-align: right;\">\n",
              "      <th></th>\n",
              "      <th>IdLugarSalida</th>\n",
              "      <th>Lugar Salida</th>\n",
              "      <th>IdTranspSalidad</th>\n",
              "      <th>Transporte Internacional de Salida</th>\n",
              "      <th>FechaSalida</th>\n",
              "      <th>IdFecSalida</th>\n",
              "      <th>FechaEntrada</th>\n",
              "      <th>IdFecEntrada</th>\n",
              "      <th>IdNacionalidad</th>\n",
              "      <th>Pais</th>\n",
              "      <th>...</th>\n",
              "      <th>GastoAlojamiento</th>\n",
              "      <th>GastoAlimentacion</th>\n",
              "      <th>GastoTransporteInternac</th>\n",
              "      <th>GatoTransporteLocal</th>\n",
              "      <th>GastoCultural</th>\n",
              "      <th>GastoTours</th>\n",
              "      <th>GastoCompras</th>\n",
              "      <th>GastoResto</th>\n",
              "      <th>Coef</th>\n",
              "      <th>CoefTot</th>\n",
              "    </tr>\n",
              "  </thead>\n",
              "  <tbody>\n",
              "    <tr>\n",
              "      <th>20114</th>\n",
              "      <td>7</td>\n",
              "      <td>Fray Bentos</td>\n",
              "      <td>2</td>\n",
              "      <td>Terrestre Auto</td>\n",
              "      <td>27/12/2022</td>\n",
              "      <td>15701</td>\n",
              "      <td>7/1/2023</td>\n",
              "      <td>15712</td>\n",
              "      <td>1</td>\n",
              "      <td>Uruguay</td>\n",
              "      <td>...</td>\n",
              "      <td>800.00</td>\n",
              "      <td>416.44</td>\n",
              "      <td>0.0</td>\n",
              "      <td>166.34</td>\n",
              "      <td>400.00</td>\n",
              "      <td>0.0</td>\n",
              "      <td>250.81</td>\n",
              "      <td>166.40</td>\n",
              "      <td>101.75</td>\n",
              "      <td>101.76</td>\n",
              "    </tr>\n",
              "    <tr>\n",
              "      <th>20115</th>\n",
              "      <td>3</td>\n",
              "      <td>Aeropuerto de Carrasco</td>\n",
              "      <td>1</td>\n",
              "      <td>Aereo</td>\n",
              "      <td>25/12/2022</td>\n",
              "      <td>15699</td>\n",
              "      <td>10/1/2023</td>\n",
              "      <td>15715</td>\n",
              "      <td>1</td>\n",
              "      <td>Uruguay</td>\n",
              "      <td>...</td>\n",
              "      <td>0.00</td>\n",
              "      <td>2309.63</td>\n",
              "      <td>2400.0</td>\n",
              "      <td>0.00</td>\n",
              "      <td>540.88</td>\n",
              "      <td>107.8</td>\n",
              "      <td>754.60</td>\n",
              "      <td>1287.08</td>\n",
              "      <td>247.33</td>\n",
              "      <td>247.58</td>\n",
              "    </tr>\n",
              "    <tr>\n",
              "      <th>20116</th>\n",
              "      <td>10</td>\n",
              "      <td>Salto</td>\n",
              "      <td>2</td>\n",
              "      <td>Terrestre Auto</td>\n",
              "      <td>27/12/2022</td>\n",
              "      <td>15701</td>\n",
              "      <td>5/1/2023</td>\n",
              "      <td>15710</td>\n",
              "      <td>1</td>\n",
              "      <td>Uruguay</td>\n",
              "      <td>...</td>\n",
              "      <td>600.00</td>\n",
              "      <td>300.00</td>\n",
              "      <td>0.0</td>\n",
              "      <td>1092.21</td>\n",
              "      <td>200.00</td>\n",
              "      <td>0.0</td>\n",
              "      <td>469.17</td>\n",
              "      <td>1179.10</td>\n",
              "      <td>79.35</td>\n",
              "      <td>78.43</td>\n",
              "    </tr>\n",
              "    <tr>\n",
              "      <th>20117</th>\n",
              "      <td>7</td>\n",
              "      <td>Fray Bentos</td>\n",
              "      <td>2</td>\n",
              "      <td>Terrestre Auto</td>\n",
              "      <td>26/12/2022</td>\n",
              "      <td>15700</td>\n",
              "      <td>30/12/2022</td>\n",
              "      <td>15704</td>\n",
              "      <td>1</td>\n",
              "      <td>Uruguay</td>\n",
              "      <td>...</td>\n",
              "      <td>323.82</td>\n",
              "      <td>200.00</td>\n",
              "      <td>0.0</td>\n",
              "      <td>40.00</td>\n",
              "      <td>197.16</td>\n",
              "      <td>0.0</td>\n",
              "      <td>350.00</td>\n",
              "      <td>393.03</td>\n",
              "      <td>79.35</td>\n",
              "      <td>78.43</td>\n",
              "    </tr>\n",
              "    <tr>\n",
              "      <th>20118</th>\n",
              "      <td>8</td>\n",
              "      <td>Paysandú</td>\n",
              "      <td>2</td>\n",
              "      <td>Terrestre Auto</td>\n",
              "      <td>11/1/2023</td>\n",
              "      <td>15716</td>\n",
              "      <td>11/1/2023</td>\n",
              "      <td>15716</td>\n",
              "      <td>1</td>\n",
              "      <td>Uruguay</td>\n",
              "      <td>...</td>\n",
              "      <td>0.00</td>\n",
              "      <td>12.69</td>\n",
              "      <td>0.0</td>\n",
              "      <td>0.00</td>\n",
              "      <td>0.00</td>\n",
              "      <td>0.0</td>\n",
              "      <td>88.86</td>\n",
              "      <td>0.00</td>\n",
              "      <td>79.35</td>\n",
              "      <td>78.43</td>\n",
              "    </tr>\n",
              "  </tbody>\n",
              "</table>\n",
              "<p>5 rows × 41 columns</p>\n",
              "</div>\n",
              "      <button class=\"colab-df-convert\" onclick=\"convertToInteractive('df-645af50c-ee75-4032-9ebb-ba3842a9c008')\"\n",
              "              title=\"Convert this dataframe to an interactive table.\"\n",
              "              style=\"display:none;\">\n",
              "\n",
              "  <svg xmlns=\"http://www.w3.org/2000/svg\" height=\"24px\"viewBox=\"0 0 24 24\"\n",
              "       width=\"24px\">\n",
              "    <path d=\"M0 0h24v24H0V0z\" fill=\"none\"/>\n",
              "    <path d=\"M18.56 5.44l.94 2.06.94-2.06 2.06-.94-2.06-.94-.94-2.06-.94 2.06-2.06.94zm-11 1L8.5 8.5l.94-2.06 2.06-.94-2.06-.94L8.5 2.5l-.94 2.06-2.06.94zm10 10l.94 2.06.94-2.06 2.06-.94-2.06-.94-.94-2.06-.94 2.06-2.06.94z\"/><path d=\"M17.41 7.96l-1.37-1.37c-.4-.4-.92-.59-1.43-.59-.52 0-1.04.2-1.43.59L10.3 9.45l-7.72 7.72c-.78.78-.78 2.05 0 2.83L4 21.41c.39.39.9.59 1.41.59.51 0 1.02-.2 1.41-.59l7.78-7.78 2.81-2.81c.8-.78.8-2.07 0-2.86zM5.41 20L4 18.59l7.72-7.72 1.47 1.35L5.41 20z\"/>\n",
              "  </svg>\n",
              "      </button>\n",
              "\n",
              "\n",
              "\n",
              "    <div id=\"df-6d41f728-2e46-47bd-9428-23ec73f735ea\">\n",
              "      <button class=\"colab-df-quickchart\" onclick=\"quickchart('df-6d41f728-2e46-47bd-9428-23ec73f735ea')\"\n",
              "              title=\"Suggest charts.\"\n",
              "              style=\"display:none;\">\n",
              "\n",
              "<svg xmlns=\"http://www.w3.org/2000/svg\" height=\"24px\"viewBox=\"0 0 24 24\"\n",
              "     width=\"24px\">\n",
              "    <g>\n",
              "        <path d=\"M19 3H5c-1.1 0-2 .9-2 2v14c0 1.1.9 2 2 2h14c1.1 0 2-.9 2-2V5c0-1.1-.9-2-2-2zM9 17H7v-7h2v7zm4 0h-2V7h2v10zm4 0h-2v-4h2v4z\"/>\n",
              "    </g>\n",
              "</svg>\n",
              "      </button>\n",
              "    </div>\n",
              "\n",
              "<style>\n",
              "  .colab-df-quickchart {\n",
              "    background-color: #E8F0FE;\n",
              "    border: none;\n",
              "    border-radius: 50%;\n",
              "    cursor: pointer;\n",
              "    display: none;\n",
              "    fill: #1967D2;\n",
              "    height: 32px;\n",
              "    padding: 0 0 0 0;\n",
              "    width: 32px;\n",
              "  }\n",
              "\n",
              "  .colab-df-quickchart:hover {\n",
              "    background-color: #E2EBFA;\n",
              "    box-shadow: 0px 1px 2px rgba(60, 64, 67, 0.3), 0px 1px 3px 1px rgba(60, 64, 67, 0.15);\n",
              "    fill: #174EA6;\n",
              "  }\n",
              "\n",
              "  [theme=dark] .colab-df-quickchart {\n",
              "    background-color: #3B4455;\n",
              "    fill: #D2E3FC;\n",
              "  }\n",
              "\n",
              "  [theme=dark] .colab-df-quickchart:hover {\n",
              "    background-color: #434B5C;\n",
              "    box-shadow: 0px 1px 3px 1px rgba(0, 0, 0, 0.15);\n",
              "    filter: drop-shadow(0px 1px 2px rgba(0, 0, 0, 0.3));\n",
              "    fill: #FFFFFF;\n",
              "  }\n",
              "</style>\n",
              "\n",
              "    <script>\n",
              "      async function quickchart(key) {\n",
              "        const containerElement = document.querySelector('#' + key);\n",
              "        const charts = await google.colab.kernel.invokeFunction(\n",
              "            'suggestCharts', [key], {});\n",
              "      }\n",
              "    </script>\n",
              "\n",
              "      <script>\n",
              "\n",
              "function displayQuickchartButton(domScope) {\n",
              "  let quickchartButtonEl =\n",
              "    domScope.querySelector('#df-6d41f728-2e46-47bd-9428-23ec73f735ea button.colab-df-quickchart');\n",
              "  quickchartButtonEl.style.display =\n",
              "    google.colab.kernel.accessAllowed ? 'block' : 'none';\n",
              "}\n",
              "\n",
              "        displayQuickchartButton(document);\n",
              "      </script>\n",
              "      <style>\n",
              "    .colab-df-container {\n",
              "      display:flex;\n",
              "      flex-wrap:wrap;\n",
              "      gap: 12px;\n",
              "    }\n",
              "\n",
              "    .colab-df-convert {\n",
              "      background-color: #E8F0FE;\n",
              "      border: none;\n",
              "      border-radius: 50%;\n",
              "      cursor: pointer;\n",
              "      display: none;\n",
              "      fill: #1967D2;\n",
              "      height: 32px;\n",
              "      padding: 0 0 0 0;\n",
              "      width: 32px;\n",
              "    }\n",
              "\n",
              "    .colab-df-convert:hover {\n",
              "      background-color: #E2EBFA;\n",
              "      box-shadow: 0px 1px 2px rgba(60, 64, 67, 0.3), 0px 1px 3px 1px rgba(60, 64, 67, 0.15);\n",
              "      fill: #174EA6;\n",
              "    }\n",
              "\n",
              "    [theme=dark] .colab-df-convert {\n",
              "      background-color: #3B4455;\n",
              "      fill: #D2E3FC;\n",
              "    }\n",
              "\n",
              "    [theme=dark] .colab-df-convert:hover {\n",
              "      background-color: #434B5C;\n",
              "      box-shadow: 0px 1px 3px 1px rgba(0, 0, 0, 0.15);\n",
              "      filter: drop-shadow(0px 1px 2px rgba(0, 0, 0, 0.3));\n",
              "      fill: #FFFFFF;\n",
              "    }\n",
              "  </style>\n",
              "\n",
              "      <script>\n",
              "        const buttonEl =\n",
              "          document.querySelector('#df-645af50c-ee75-4032-9ebb-ba3842a9c008 button.colab-df-convert');\n",
              "        buttonEl.style.display =\n",
              "          google.colab.kernel.accessAllowed ? 'block' : 'none';\n",
              "\n",
              "        async function convertToInteractive(key) {\n",
              "          const element = document.querySelector('#df-645af50c-ee75-4032-9ebb-ba3842a9c008');\n",
              "          const dataTable =\n",
              "            await google.colab.kernel.invokeFunction('convertToInteractive',\n",
              "                                                     [key], {});\n",
              "          if (!dataTable) return;\n",
              "\n",
              "          const docLinkHtml = 'Like what you see? Visit the ' +\n",
              "            '<a target=\"_blank\" href=https://colab.research.google.com/notebooks/data_table.ipynb>data table notebook</a>'\n",
              "            + ' to learn more about interactive tables.';\n",
              "          element.innerHTML = '';\n",
              "          dataTable['output_type'] = 'display_data';\n",
              "          await google.colab.output.renderOutput(dataTable, element);\n",
              "          const docLink = document.createElement('div');\n",
              "          docLink.innerHTML = docLinkHtml;\n",
              "          element.appendChild(docLink);\n",
              "        }\n",
              "      </script>\n",
              "    </div>\n",
              "  </div>\n"
            ]
          },
          "metadata": {},
          "execution_count": 9
        }
      ]
    },
    {
      "cell_type": "code",
      "source": [
        "# Extraer los años únicos de la columna \"FechaSalida\"\n",
        "anios = pd.DatetimeIndex(df['FechaSalida']).year.unique()\n",
        "\n",
        "\n",
        "# agrupar por mes, trimeste.\n",
        "#buscar otros recomendadores (general y de viajes) / Buscar en google schoolar Recommender sistem\n",
        "#Coste bajo, coste medio, coste alto en gastos\n",
        "\n",
        "# Imprimir los años únicos\n",
        "print(anios)"
      ],
      "metadata": {
        "colab": {
          "base_uri": "https://localhost:8080/"
        },
        "id": "ZwygcHsS2pmu",
        "outputId": "bf592c38-ba01-46da-e79e-035ff57a98e4"
      },
      "execution_count": 10,
      "outputs": [
        {
          "output_type": "stream",
          "name": "stdout",
          "text": [
            "Int64Index([2016, 2017, 2018, 2019, 2020, 2022, 2021, 2023], dtype='int64', name='FechaSalida')\n"
          ]
        },
        {
          "output_type": "stream",
          "name": "stderr",
          "text": [
            "<ipython-input-10-27d8060c7d52>:2: UserWarning: Parsing dates in DD/MM/YYYY format when dayfirst=False (the default) was specified. This may lead to inconsistently parsed dates! Specify a format to ensure consistent parsing.\n",
            "  anios = pd.DatetimeIndex(df['FechaSalida']).year.unique()\n"
          ]
        }
      ]
    },
    {
      "cell_type": "code",
      "source": [
        "destinations = df[['Destino', 'Pais', 'Departamento', 'Estadia', 'GastoTotal']]\n",
        "#Filtra los datos relevantes para la recomendación de destino y crea una base de datos de destinos."
      ],
      "metadata": {
        "id": "aHBibgPtplsY"
      },
      "execution_count": 11,
      "outputs": []
    },
    {
      "cell_type": "code",
      "source": [
        "destinations"
      ],
      "metadata": {
        "colab": {
          "base_uri": "https://localhost:8080/",
          "height": 424
        },
        "id": "FWPvJVHepzc7",
        "outputId": "8d9159c2-703b-44fe-fc8a-293126e0304e"
      },
      "execution_count": 12,
      "outputs": [
        {
          "output_type": "execute_result",
          "data": {
            "text/plain": [
              "         Destino     Pais    Departamento  Estadia  GastoTotal\n",
              "0         Brasil  Uruguay      Montevideo       12     1507.12\n",
              "1         Brasil  Uruguay       Maldonado       11     3275.00\n",
              "2         Europa  Uruguay       Canelones       24     4785.75\n",
              "3         Brasil  Uruguay      Montevideo       15     5883.00\n",
              "4         Brasil  Uruguay       Canelones       23     3400.00\n",
              "...          ...      ...             ...      ...         ...\n",
              "20114      Chile  Uruguay      Montevideo       11     2200.00\n",
              "20115     Europa  Uruguay  Treinta y Tres       16     5000.00\n",
              "20116  Argentina  Uruguay       Saqn Jose        9     3840.49\n",
              "20117  Argentina  Uruguay         Soriano        4     1504.02\n",
              "20118  Argentina  Uruguay        Paysandu        1      101.56\n",
              "\n",
              "[20119 rows x 5 columns]"
            ],
            "text/html": [
              "\n",
              "\n",
              "  <div id=\"df-29a3d714-efe6-4b79-9b0f-7d02fe490fe5\">\n",
              "    <div class=\"colab-df-container\">\n",
              "      <div>\n",
              "<style scoped>\n",
              "    .dataframe tbody tr th:only-of-type {\n",
              "        vertical-align: middle;\n",
              "    }\n",
              "\n",
              "    .dataframe tbody tr th {\n",
              "        vertical-align: top;\n",
              "    }\n",
              "\n",
              "    .dataframe thead th {\n",
              "        text-align: right;\n",
              "    }\n",
              "</style>\n",
              "<table border=\"1\" class=\"dataframe\">\n",
              "  <thead>\n",
              "    <tr style=\"text-align: right;\">\n",
              "      <th></th>\n",
              "      <th>Destino</th>\n",
              "      <th>Pais</th>\n",
              "      <th>Departamento</th>\n",
              "      <th>Estadia</th>\n",
              "      <th>GastoTotal</th>\n",
              "    </tr>\n",
              "  </thead>\n",
              "  <tbody>\n",
              "    <tr>\n",
              "      <th>0</th>\n",
              "      <td>Brasil</td>\n",
              "      <td>Uruguay</td>\n",
              "      <td>Montevideo</td>\n",
              "      <td>12</td>\n",
              "      <td>1507.12</td>\n",
              "    </tr>\n",
              "    <tr>\n",
              "      <th>1</th>\n",
              "      <td>Brasil</td>\n",
              "      <td>Uruguay</td>\n",
              "      <td>Maldonado</td>\n",
              "      <td>11</td>\n",
              "      <td>3275.00</td>\n",
              "    </tr>\n",
              "    <tr>\n",
              "      <th>2</th>\n",
              "      <td>Europa</td>\n",
              "      <td>Uruguay</td>\n",
              "      <td>Canelones</td>\n",
              "      <td>24</td>\n",
              "      <td>4785.75</td>\n",
              "    </tr>\n",
              "    <tr>\n",
              "      <th>3</th>\n",
              "      <td>Brasil</td>\n",
              "      <td>Uruguay</td>\n",
              "      <td>Montevideo</td>\n",
              "      <td>15</td>\n",
              "      <td>5883.00</td>\n",
              "    </tr>\n",
              "    <tr>\n",
              "      <th>4</th>\n",
              "      <td>Brasil</td>\n",
              "      <td>Uruguay</td>\n",
              "      <td>Canelones</td>\n",
              "      <td>23</td>\n",
              "      <td>3400.00</td>\n",
              "    </tr>\n",
              "    <tr>\n",
              "      <th>...</th>\n",
              "      <td>...</td>\n",
              "      <td>...</td>\n",
              "      <td>...</td>\n",
              "      <td>...</td>\n",
              "      <td>...</td>\n",
              "    </tr>\n",
              "    <tr>\n",
              "      <th>20114</th>\n",
              "      <td>Chile</td>\n",
              "      <td>Uruguay</td>\n",
              "      <td>Montevideo</td>\n",
              "      <td>11</td>\n",
              "      <td>2200.00</td>\n",
              "    </tr>\n",
              "    <tr>\n",
              "      <th>20115</th>\n",
              "      <td>Europa</td>\n",
              "      <td>Uruguay</td>\n",
              "      <td>Treinta y Tres</td>\n",
              "      <td>16</td>\n",
              "      <td>5000.00</td>\n",
              "    </tr>\n",
              "    <tr>\n",
              "      <th>20116</th>\n",
              "      <td>Argentina</td>\n",
              "      <td>Uruguay</td>\n",
              "      <td>Saqn Jose</td>\n",
              "      <td>9</td>\n",
              "      <td>3840.49</td>\n",
              "    </tr>\n",
              "    <tr>\n",
              "      <th>20117</th>\n",
              "      <td>Argentina</td>\n",
              "      <td>Uruguay</td>\n",
              "      <td>Soriano</td>\n",
              "      <td>4</td>\n",
              "      <td>1504.02</td>\n",
              "    </tr>\n",
              "    <tr>\n",
              "      <th>20118</th>\n",
              "      <td>Argentina</td>\n",
              "      <td>Uruguay</td>\n",
              "      <td>Paysandu</td>\n",
              "      <td>1</td>\n",
              "      <td>101.56</td>\n",
              "    </tr>\n",
              "  </tbody>\n",
              "</table>\n",
              "<p>20119 rows × 5 columns</p>\n",
              "</div>\n",
              "      <button class=\"colab-df-convert\" onclick=\"convertToInteractive('df-29a3d714-efe6-4b79-9b0f-7d02fe490fe5')\"\n",
              "              title=\"Convert this dataframe to an interactive table.\"\n",
              "              style=\"display:none;\">\n",
              "\n",
              "  <svg xmlns=\"http://www.w3.org/2000/svg\" height=\"24px\"viewBox=\"0 0 24 24\"\n",
              "       width=\"24px\">\n",
              "    <path d=\"M0 0h24v24H0V0z\" fill=\"none\"/>\n",
              "    <path d=\"M18.56 5.44l.94 2.06.94-2.06 2.06-.94-2.06-.94-.94-2.06-.94 2.06-2.06.94zm-11 1L8.5 8.5l.94-2.06 2.06-.94-2.06-.94L8.5 2.5l-.94 2.06-2.06.94zm10 10l.94 2.06.94-2.06 2.06-.94-2.06-.94-.94-2.06-.94 2.06-2.06.94z\"/><path d=\"M17.41 7.96l-1.37-1.37c-.4-.4-.92-.59-1.43-.59-.52 0-1.04.2-1.43.59L10.3 9.45l-7.72 7.72c-.78.78-.78 2.05 0 2.83L4 21.41c.39.39.9.59 1.41.59.51 0 1.02-.2 1.41-.59l7.78-7.78 2.81-2.81c.8-.78.8-2.07 0-2.86zM5.41 20L4 18.59l7.72-7.72 1.47 1.35L5.41 20z\"/>\n",
              "  </svg>\n",
              "      </button>\n",
              "\n",
              "\n",
              "\n",
              "    <div id=\"df-5c26f944-6847-4d71-9d81-621c31ebd031\">\n",
              "      <button class=\"colab-df-quickchart\" onclick=\"quickchart('df-5c26f944-6847-4d71-9d81-621c31ebd031')\"\n",
              "              title=\"Suggest charts.\"\n",
              "              style=\"display:none;\">\n",
              "\n",
              "<svg xmlns=\"http://www.w3.org/2000/svg\" height=\"24px\"viewBox=\"0 0 24 24\"\n",
              "     width=\"24px\">\n",
              "    <g>\n",
              "        <path d=\"M19 3H5c-1.1 0-2 .9-2 2v14c0 1.1.9 2 2 2h14c1.1 0 2-.9 2-2V5c0-1.1-.9-2-2-2zM9 17H7v-7h2v7zm4 0h-2V7h2v10zm4 0h-2v-4h2v4z\"/>\n",
              "    </g>\n",
              "</svg>\n",
              "      </button>\n",
              "    </div>\n",
              "\n",
              "<style>\n",
              "  .colab-df-quickchart {\n",
              "    background-color: #E8F0FE;\n",
              "    border: none;\n",
              "    border-radius: 50%;\n",
              "    cursor: pointer;\n",
              "    display: none;\n",
              "    fill: #1967D2;\n",
              "    height: 32px;\n",
              "    padding: 0 0 0 0;\n",
              "    width: 32px;\n",
              "  }\n",
              "\n",
              "  .colab-df-quickchart:hover {\n",
              "    background-color: #E2EBFA;\n",
              "    box-shadow: 0px 1px 2px rgba(60, 64, 67, 0.3), 0px 1px 3px 1px rgba(60, 64, 67, 0.15);\n",
              "    fill: #174EA6;\n",
              "  }\n",
              "\n",
              "  [theme=dark] .colab-df-quickchart {\n",
              "    background-color: #3B4455;\n",
              "    fill: #D2E3FC;\n",
              "  }\n",
              "\n",
              "  [theme=dark] .colab-df-quickchart:hover {\n",
              "    background-color: #434B5C;\n",
              "    box-shadow: 0px 1px 3px 1px rgba(0, 0, 0, 0.15);\n",
              "    filter: drop-shadow(0px 1px 2px rgba(0, 0, 0, 0.3));\n",
              "    fill: #FFFFFF;\n",
              "  }\n",
              "</style>\n",
              "\n",
              "    <script>\n",
              "      async function quickchart(key) {\n",
              "        const containerElement = document.querySelector('#' + key);\n",
              "        const charts = await google.colab.kernel.invokeFunction(\n",
              "            'suggestCharts', [key], {});\n",
              "      }\n",
              "    </script>\n",
              "\n",
              "      <script>\n",
              "\n",
              "function displayQuickchartButton(domScope) {\n",
              "  let quickchartButtonEl =\n",
              "    domScope.querySelector('#df-5c26f944-6847-4d71-9d81-621c31ebd031 button.colab-df-quickchart');\n",
              "  quickchartButtonEl.style.display =\n",
              "    google.colab.kernel.accessAllowed ? 'block' : 'none';\n",
              "}\n",
              "\n",
              "        displayQuickchartButton(document);\n",
              "      </script>\n",
              "      <style>\n",
              "    .colab-df-container {\n",
              "      display:flex;\n",
              "      flex-wrap:wrap;\n",
              "      gap: 12px;\n",
              "    }\n",
              "\n",
              "    .colab-df-convert {\n",
              "      background-color: #E8F0FE;\n",
              "      border: none;\n",
              "      border-radius: 50%;\n",
              "      cursor: pointer;\n",
              "      display: none;\n",
              "      fill: #1967D2;\n",
              "      height: 32px;\n",
              "      padding: 0 0 0 0;\n",
              "      width: 32px;\n",
              "    }\n",
              "\n",
              "    .colab-df-convert:hover {\n",
              "      background-color: #E2EBFA;\n",
              "      box-shadow: 0px 1px 2px rgba(60, 64, 67, 0.3), 0px 1px 3px 1px rgba(60, 64, 67, 0.15);\n",
              "      fill: #174EA6;\n",
              "    }\n",
              "\n",
              "    [theme=dark] .colab-df-convert {\n",
              "      background-color: #3B4455;\n",
              "      fill: #D2E3FC;\n",
              "    }\n",
              "\n",
              "    [theme=dark] .colab-df-convert:hover {\n",
              "      background-color: #434B5C;\n",
              "      box-shadow: 0px 1px 3px 1px rgba(0, 0, 0, 0.15);\n",
              "      filter: drop-shadow(0px 1px 2px rgba(0, 0, 0, 0.3));\n",
              "      fill: #FFFFFF;\n",
              "    }\n",
              "  </style>\n",
              "\n",
              "      <script>\n",
              "        const buttonEl =\n",
              "          document.querySelector('#df-29a3d714-efe6-4b79-9b0f-7d02fe490fe5 button.colab-df-convert');\n",
              "        buttonEl.style.display =\n",
              "          google.colab.kernel.accessAllowed ? 'block' : 'none';\n",
              "\n",
              "        async function convertToInteractive(key) {\n",
              "          const element = document.querySelector('#df-29a3d714-efe6-4b79-9b0f-7d02fe490fe5');\n",
              "          const dataTable =\n",
              "            await google.colab.kernel.invokeFunction('convertToInteractive',\n",
              "                                                     [key], {});\n",
              "          if (!dataTable) return;\n",
              "\n",
              "          const docLinkHtml = 'Like what you see? Visit the ' +\n",
              "            '<a target=\"_blank\" href=https://colab.research.google.com/notebooks/data_table.ipynb>data table notebook</a>'\n",
              "            + ' to learn more about interactive tables.';\n",
              "          element.innerHTML = '';\n",
              "          dataTable['output_type'] = 'display_data';\n",
              "          await google.colab.output.renderOutput(dataTable, element);\n",
              "          const docLink = document.createElement('div');\n",
              "          docLink.innerHTML = docLinkHtml;\n",
              "          element.appendChild(docLink);\n",
              "        }\n",
              "      </script>\n",
              "    </div>\n",
              "  </div>\n"
            ]
          },
          "metadata": {},
          "execution_count": 12
        }
      ]
    },
    {
      "cell_type": "code",
      "source": [
        "\n",
        "# Supongamos que tienes un DataFrame llamado df con una columna \"Pais\"\n",
        "repeated_countries = df['Destino'].value_counts()\n",
        "\n",
        "# Imprime la serie con la cantidad de países repetidos\n",
        "print(repeated_countries)\n"
      ],
      "metadata": {
        "colab": {
          "base_uri": "https://localhost:8080/"
        },
        "id": "AsHEyYdOV2Ta",
        "outputId": "d66cf396-bd71-4f37-fb39-2d916156ae37"
      },
      "execution_count": 13,
      "outputs": [
        {
          "output_type": "stream",
          "name": "stdout",
          "text": [
            "Argentina                   12825\n",
            "Brasil                       3984\n",
            "Centro y Norte America       1183\n",
            "Europa                        826\n",
            "Paraguay                      424\n",
            "Chile                         368\n",
            "Resto Sud America             364\n",
            "Asia del Este y Pacifico       69\n",
            "Oriente Medio                  29\n",
            "Africa                         22\n",
            "Sin Datos                      20\n",
            "Otros                           3\n",
            "Asia Meridional                 2\n",
            "Name: Destino, dtype: int64\n"
          ]
        }
      ]
    },
    {
      "cell_type": "code",
      "source": [
        "# Supongamos que tienes un DataFrame llamado df con una columna \"Pais\"\n",
        "estudio = df['Estudio'].value_counts()\n",
        "\n",
        "# Imprime la serie con la cantidad de países repetidos\n",
        "print(estudio)"
      ],
      "metadata": {
        "colab": {
          "base_uri": "https://localhost:8080/"
        },
        "id": "LnYz4OodW_b3",
        "outputId": "7df760fa-431c-4fc5-edca-82ace6d8fb67"
      },
      "execution_count": 14,
      "outputs": [
        {
          "output_type": "stream",
          "name": "stdout",
          "text": [
            "Secundaria completa      6911\n",
            "Terciaria completa       4985\n",
            "Terciaria incompleta     4705\n",
            "Secundaria incompleta    2588\n",
            "Otros                     664\n",
            "Primaria completa         232\n",
            "Sin Datos                  31\n",
            "Primaria incompleta         3\n",
            "Name: Estudio, dtype: int64\n"
          ]
        }
      ]
    },
    {
      "cell_type": "code",
      "source": [
        "# Supongamos que tienes un DataFrame llamado df con una columna \"Pais\"\n",
        "motivo = df['Motivo'].value_counts()\n",
        "\n",
        "# Imprime la serie con la cantidad de países repetidos\n",
        "print(motivo)"
      ],
      "metadata": {
        "colab": {
          "base_uri": "https://localhost:8080/"
        },
        "id": "xnTZg4qRXD6l",
        "outputId": "38f7a941-cae1-45c0-df2f-978a9014cf2a"
      },
      "execution_count": 15,
      "outputs": [
        {
          "output_type": "stream",
          "name": "stdout",
          "text": [
            "Ocio, Recreo, Vacaciones      9384\n",
            "Visita familiares / amigos    6983\n",
            "Negocios, Profesion           2533\n",
            "Compras                        400\n",
            "Estudios                       200\n",
            "Tratamiento Salud              186\n",
            "Otros                          147\n",
            "Religion y Peregrinaciones     137\n",
            "Deportivo                      130\n",
            "Trabajo remunerado Destino      19\n",
            "Name: Motivo, dtype: int64\n"
          ]
        }
      ]
    },
    {
      "cell_type": "code",
      "source": [
        "\n",
        "# Supongamos que tienes un DataFrame llamado df con una columna \"Pais\"\n",
        "gente = df['Gente'].value_counts()\n",
        "\n",
        "# Imprime la serie con la cantidad de países repetidos\n",
        "print(gente)"
      ],
      "metadata": {
        "colab": {
          "base_uri": "https://localhost:8080/"
        },
        "id": "lGAADVeiWuty",
        "outputId": "160538eb-38c7-42dd-d549-c8b88b37e8c8"
      },
      "execution_count": 16,
      "outputs": [
        {
          "output_type": "stream",
          "name": "stdout",
          "text": [
            "2     8617\n",
            "1     5912\n",
            "3     2522\n",
            "4     2472\n",
            "5      386\n",
            "6      126\n",
            "7       47\n",
            "8       26\n",
            "9        6\n",
            "10       2\n",
            "15       1\n",
            "12       1\n",
            "13       1\n",
            "Name: Gente, dtype: int64\n"
          ]
        }
      ]
    },
    {
      "cell_type": "code",
      "source": [
        "# Filtrar personas de 25 años que viajaron por estudio\n",
        "#estudiosos = df[(df['Edad'] == 25) & (df['Motivo'] == 'Estudios')]\n",
        "\n",
        "# Imprimir el DataFrame filtrado\n",
        "#print(estudiosos)"
      ],
      "metadata": {
        "id": "ZZu9ljJpy3FJ"
      },
      "execution_count": 17,
      "outputs": []
    },
    {
      "cell_type": "code",
      "source": [
        "# Filtrar personas de 25 años que viajaron por estudio\n",
        "estudiosos = df[(df['Motivo'] == 'Estudios')]\n",
        "\n",
        "# Imprimir el DataFrame filtrado\n",
        "print(estudiosos[\"Destino\"])"
      ],
      "metadata": {
        "colab": {
          "base_uri": "https://localhost:8080/"
        },
        "id": "F2DZt-TqzMiC",
        "outputId": "a271a079-e69b-49bf-fbac-599a62bc6ac2"
      },
      "execution_count": 18,
      "outputs": [
        {
          "output_type": "stream",
          "name": "stdout",
          "text": [
            "552                      Europa\n",
            "647                      Europa\n",
            "657                      Brasil\n",
            "672                      Europa\n",
            "720      Centro y Norte America\n",
            "                  ...          \n",
            "19135                     Chile\n",
            "19226                    Brasil\n",
            "19391                 Argentina\n",
            "19687                 Argentina\n",
            "19927                     Chile\n",
            "Name: Destino, Length: 200, dtype: object\n"
          ]
        }
      ]
    },
    {
      "cell_type": "code",
      "source": [
        "\n",
        "# Supongamos que tienes un DataFrame llamado df y ya has filtrado las personas que viajaron por estudios\n",
        "estudiosos = df[df['Motivo'] == 'Estudios']\n",
        "\n",
        "# Obtener la columna de destinos de los estudiosos\n",
        "destinos_estudiosos = estudiosos['Destino']\n",
        "\n",
        "# Imprimir los destinos\n",
        "print(destinos_estudiosos)"
      ],
      "metadata": {
        "colab": {
          "base_uri": "https://localhost:8080/"
        },
        "id": "fA7G1dMZzmTj",
        "outputId": "1bfd6339-0cee-4ba0-cbb1-9ac089e0c90f"
      },
      "execution_count": 19,
      "outputs": [
        {
          "output_type": "stream",
          "name": "stdout",
          "text": [
            "552                      Europa\n",
            "647                      Europa\n",
            "657                      Brasil\n",
            "672                      Europa\n",
            "720      Centro y Norte America\n",
            "                  ...          \n",
            "19135                     Chile\n",
            "19226                    Brasil\n",
            "19391                 Argentina\n",
            "19687                 Argentina\n",
            "19927                     Chile\n",
            "Name: Destino, Length: 200, dtype: object\n"
          ]
        }
      ]
    },
    {
      "cell_type": "code",
      "source": [
        "# Obtener los destinos únicos de los estudiosos\n",
        "destinos_unicos_estudiosos = estudiosos['Destino'].unique()\n",
        "\n",
        "# Imprimir los destinos únicos\n",
        "print(destinos_unicos_estudiosos)\n"
      ],
      "metadata": {
        "colab": {
          "base_uri": "https://localhost:8080/"
        },
        "id": "QJ6Wjyxi0KgQ",
        "outputId": "594ee8be-15dd-4c20-8077-4db3a6f892c9"
      },
      "execution_count": 20,
      "outputs": [
        {
          "output_type": "stream",
          "name": "stdout",
          "text": [
            "['Europa' 'Brasil' 'Centro y Norte America' 'Argentina' 'Africa' 'Chile'\n",
            " 'Resto Sud America' 'Asia del Este y Pacifico']\n"
          ]
        }
      ]
    },
    {
      "cell_type": "code",
      "source": [
        "import pandas as pd\n",
        "\n",
        "# Supongamos que tienes un DataFrame llamado df y ya has filtrado las personas que viajaron por estudios\n",
        "estudiosos = df[df['Motivo'] == 'Estudios']\n",
        "\n",
        "# Obtener la cuenta de personas por destino\n",
        "destinos_count = estudiosos['Destino'].value_counts()\n",
        "\n",
        "# Imprimir la cuenta de personas por destino\n",
        "print(destinos_count)\n"
      ],
      "metadata": {
        "colab": {
          "base_uri": "https://localhost:8080/"
        },
        "id": "gMlI_fLc0Uic",
        "outputId": "e9c76a40-fb90-4bf7-f7ed-eb31aa717c77"
      },
      "execution_count": 21,
      "outputs": [
        {
          "output_type": "stream",
          "name": "stdout",
          "text": [
            "Argentina                   87\n",
            "Europa                      39\n",
            "Centro y Norte America      27\n",
            "Brasil                      26\n",
            "Chile                       11\n",
            "Resto Sud America            8\n",
            "Africa                       1\n",
            "Asia del Este y Pacifico     1\n",
            "Name: Destino, dtype: int64\n"
          ]
        }
      ]
    },
    {
      "cell_type": "code",
      "source": [
        "# Ordenar los destinos por la cantidad de personas en orden descendente\n",
        "destinos_count = destinos_count.sort_values(ascending=False)\n",
        "\n",
        "# Imprimir la cuenta de personas por destino ordenada\n",
        "print(destinos_count)\n"
      ],
      "metadata": {
        "colab": {
          "base_uri": "https://localhost:8080/"
        },
        "id": "WRgw6R6Y0Wq6",
        "outputId": "47a0bc3e-e5ea-4e6d-a570-b11c70606888"
      },
      "execution_count": 22,
      "outputs": [
        {
          "output_type": "stream",
          "name": "stdout",
          "text": [
            "Argentina                   87\n",
            "Europa                      39\n",
            "Centro y Norte America      27\n",
            "Brasil                      26\n",
            "Chile                       11\n",
            "Resto Sud America            8\n",
            "Africa                       1\n",
            "Asia del Este y Pacifico     1\n",
            "Name: Destino, dtype: int64\n"
          ]
        }
      ]
    },
    {
      "cell_type": "code",
      "source": [
        "import numpy as np\n",
        "\n",
        "scores = np.array(destinations['Estadia'] * destinations['GastoTotal'])\n",
        "#Calcula el puntaje de cada destino utilizando la biblioteca numpy.\n"
      ],
      "metadata": {
        "id": "3MKT303Jpze_"
      },
      "execution_count": 23,
      "outputs": []
    },
    {
      "cell_type": "code",
      "source": [],
      "metadata": {
        "id": "lW-bwyn8zlR6"
      },
      "execution_count": 23,
      "outputs": []
    },
    {
      "cell_type": "code",
      "source": [
        "normalized_scores = scores / np.max(scores)\n",
        "#Normaliza los puntajes para que estén en una escala de 0 a 1."
      ],
      "metadata": {
        "id": "pcZv0uRJpzhF"
      },
      "execution_count": 24,
      "outputs": []
    },
    {
      "cell_type": "code",
      "source": [
        "from sklearn.cluster import KMeans\n",
        "\n",
        "kmeans = KMeans(n_clusters=3)\n",
        "kmeans.fit(normalized_scores.reshape(-1, 1))\n",
        "\n",
        "recommendation = destinations[kmeans.predict(normalized_scores.reshape(-1, 1)) == kmeans.cluster_centers_.argmax()]\n",
        "#Utiliza un modelo de aprendizaje automático de la biblioteca sklearn para determinar la recomendación final de destino."
      ],
      "metadata": {
        "colab": {
          "base_uri": "https://localhost:8080/"
        },
        "id": "d_xj9190qH7k",
        "outputId": "0883957c-5c8e-4aa4-d083-ad922bb40931"
      },
      "execution_count": 25,
      "outputs": [
        {
          "output_type": "stream",
          "name": "stderr",
          "text": [
            "/usr/local/lib/python3.10/dist-packages/sklearn/cluster/_kmeans.py:870: FutureWarning: The default value of `n_init` will change from 10 to 'auto' in 1.4. Set the value of `n_init` explicitly to suppress the warning\n",
            "  warnings.warn(\n"
          ]
        }
      ]
    },
    {
      "cell_type": "code",
      "source": [
        "import matplotlib.pyplot as plt\n",
        "\n",
        "plt.scatter(destinations['Estadia'], destinations['GastoTotal'], c=normalized_scores)\n",
        "plt.scatter(recommendation['Estadia'], recommendation['GastoTotal'], c='red')\n",
        "plt.xlabel('Estadia')\n",
        "plt.ylabel('GastoTotal')\n",
        "plt.title('Recomendación de destino')\n",
        "plt.show()\n",
        "#Visualiza los datos y presenta la recomendación final utilizando la biblioteca matplotlib o seaborn."
      ],
      "metadata": {
        "id": "7Tp-mjvwqJjA",
        "colab": {
          "base_uri": "https://localhost:8080/",
          "height": 472
        },
        "outputId": "5e415e57-9e30-4cc6-d9ce-4076cb23593a"
      },
      "execution_count": 26,
      "outputs": [
        {
          "output_type": "display_data",
          "data": {
            "text/plain": [
              "<Figure size 640x480 with 1 Axes>"
            ],
            "image/png": "[encoded data removed]"
          },
          "metadata": {}
        }
      ]
    },
    {
      "cell_type": "code",
      "source": [],
      "metadata": {
        "id": "y18zksJ8qLni"
      },
      "execution_count": 26,
      "outputs": []
    }
  ]
}