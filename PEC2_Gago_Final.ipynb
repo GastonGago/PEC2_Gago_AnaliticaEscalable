{
  "nbformat": 4,
  "nbformat_minor": 0,
  "metadata": {
    "colab": {
      "provenance": []
    },
    "kernelspec": {
      "name": "python3",
      "display_name": "Python 3"
    },
    "language_info": {
      "name": "python"
    }
  },
  "cells": [
    {
      "cell_type": "code",
      "execution_count": 74,
      "metadata": {
        "id": "CZy0tKlBZRgI"
      },
      "outputs": [],
      "source": [
        "import pandas as pd\n",
        "import numpy as np\n",
        "import joblib\n",
        "import seaborn as sns\n",
        "import matplotlib as plt\n",
        "\n",
        "from sklearn.linear_model import Ridge\n",
        "from sklearn.metrics import mean_squared_error, mean_absolute_error\n",
        "from sklearn.model_selection import train_test_split, cross_val_score, cross_val_predict, KFold, GridSearchCV\n",
        "from sklearn.preprocessing import RobustScaler, OneHotEncoder, StandardScaler, MinMaxScaler\n",
        "from sklearn.pipeline import Pipeline\n",
        "from sklearn.compose import ColumnTransformer, TransformedTargetRegressor\n",
        "from sklearn import preprocessing\n",
        "from sklearn.tree import DecisionTreeClassifier\n"
      ]
    },
    {
      "cell_type": "code",
      "source": [
        "df = pd.read_csv('/content/insurance.csv', na_values=' ?')\n",
        "df.head()"
      ],
      "metadata": {
        "colab": {
          "base_uri": "https://localhost:8080/",
          "height": 206
        },
        "id": "eCHOeB-CZYN8",
        "outputId": "1349c560-e41b-406b-8f8b-534d510464ec"
      },
      "execution_count": 75,
      "outputs": [
        {
          "output_type": "execute_result",
          "data": {
            "text/plain": [
              "   age     sex     bmi  children smoker     region      charges\n",
              "0   19  female  27.900         0    yes  southwest  16884.92400\n",
              "1   18    male  33.770         1     no  southeast   1725.55230\n",
              "2   28    male  33.000         3     no  southeast   4449.46200\n",
              "3   33    male  22.705         0     no  northwest  21984.47061\n",
              "4   32    male  28.880         0     no  northwest   3866.85520"
            ],
            "text/html": [
              "\n",
              "  <div id=\"df-2e072ef5-1d00-4887-821b-c6171a73d75f\">\n",
              "    <div class=\"colab-df-container\">\n",
              "      <div>\n",
              "<style scoped>\n",
              "    .dataframe tbody tr th:only-of-type {\n",
              "        vertical-align: middle;\n",
              "    }\n",
              "\n",
              "    .dataframe tbody tr th {\n",
              "        vertical-align: top;\n",
              "    }\n",
              "\n",
              "    .dataframe thead th {\n",
              "        text-align: right;\n",
              "    }\n",
              "</style>\n",
              "<table border=\"1\" class=\"dataframe\">\n",
              "  <thead>\n",
              "    <tr style=\"text-align: right;\">\n",
              "      <th></th>\n",
              "      <th>age</th>\n",
              "      <th>sex</th>\n",
              "      <th>bmi</th>\n",
              "      <th>children</th>\n",
              "      <th>smoker</th>\n",
              "      <th>region</th>\n",
              "      <th>charges</th>\n",
              "    </tr>\n",
              "  </thead>\n",
              "  <tbody>\n",
              "    <tr>\n",
              "      <th>0</th>\n",
              "      <td>19</td>\n",
              "      <td>female</td>\n",
              "      <td>27.900</td>\n",
              "      <td>0</td>\n",
              "      <td>yes</td>\n",
              "      <td>southwest</td>\n",
              "      <td>16884.92400</td>\n",
              "    </tr>\n",
              "    <tr>\n",
              "      <th>1</th>\n",
              "      <td>18</td>\n",
              "      <td>male</td>\n",
              "      <td>33.770</td>\n",
              "      <td>1</td>\n",
              "      <td>no</td>\n",
              "      <td>southeast</td>\n",
              "      <td>1725.55230</td>\n",
              "    </tr>\n",
              "    <tr>\n",
              "      <th>2</th>\n",
              "      <td>28</td>\n",
              "      <td>male</td>\n",
              "      <td>33.000</td>\n",
              "      <td>3</td>\n",
              "      <td>no</td>\n",
              "      <td>southeast</td>\n",
              "      <td>4449.46200</td>\n",
              "    </tr>\n",
              "    <tr>\n",
              "      <th>3</th>\n",
              "      <td>33</td>\n",
              "      <td>male</td>\n",
              "      <td>22.705</td>\n",
              "      <td>0</td>\n",
              "      <td>no</td>\n",
              "      <td>northwest</td>\n",
              "      <td>21984.47061</td>\n",
              "    </tr>\n",
              "    <tr>\n",
              "      <th>4</th>\n",
              "      <td>32</td>\n",
              "      <td>male</td>\n",
              "      <td>28.880</td>\n",
              "      <td>0</td>\n",
              "      <td>no</td>\n",
              "      <td>northwest</td>\n",
              "      <td>3866.85520</td>\n",
              "    </tr>\n",
              "  </tbody>\n",
              "</table>\n",
              "</div>\n",
              "      <button class=\"colab-df-convert\" onclick=\"convertToInteractive('df-2e072ef5-1d00-4887-821b-c6171a73d75f')\"\n",
              "              title=\"Convert this dataframe to an interactive table.\"\n",
              "              style=\"display:none;\">\n",
              "        \n",
              "  <svg xmlns=\"http://www.w3.org/2000/svg\" height=\"24px\"viewBox=\"0 0 24 24\"\n",
              "       width=\"24px\">\n",
              "    <path d=\"M0 0h24v24H0V0z\" fill=\"none\"/>\n",
              "    <path d=\"M18.56 5.44l.94 2.06.94-2.06 2.06-.94-2.06-.94-.94-2.06-.94 2.06-2.06.94zm-11 1L8.5 8.5l.94-2.06 2.06-.94-2.06-.94L8.5 2.5l-.94 2.06-2.06.94zm10 10l.94 2.06.94-2.06 2.06-.94-2.06-.94-.94-2.06-.94 2.06-2.06.94z\"/><path d=\"M17.41 7.96l-1.37-1.37c-.4-.4-.92-.59-1.43-.59-.52 0-1.04.2-1.43.59L10.3 9.45l-7.72 7.72c-.78.78-.78 2.05 0 2.83L4 21.41c.39.39.9.59 1.41.59.51 0 1.02-.2 1.41-.59l7.78-7.78 2.81-2.81c.8-.78.8-2.07 0-2.86zM5.41 20L4 18.59l7.72-7.72 1.47 1.35L5.41 20z\"/>\n",
              "  </svg>\n",
              "      </button>\n",
              "      \n",
              "  <style>\n",
              "    .colab-df-container {\n",
              "      display:flex;\n",
              "      flex-wrap:wrap;\n",
              "      gap: 12px;\n",
              "    }\n",
              "\n",
              "    .colab-df-convert {\n",
              "      background-color: #E8F0FE;\n",
              "      border: none;\n",
              "      border-radius: 50%;\n",
              "      cursor: pointer;\n",
              "      display: none;\n",
              "      fill: #1967D2;\n",
              "      height: 32px;\n",
              "      padding: 0 0 0 0;\n",
              "      width: 32px;\n",
              "    }\n",
              "\n",
              "    .colab-df-convert:hover {\n",
              "      background-color: #E2EBFA;\n",
              "      box-shadow: 0px 1px 2px rgba(60, 64, 67, 0.3), 0px 1px 3px 1px rgba(60, 64, 67, 0.15);\n",
              "      fill: #174EA6;\n",
              "    }\n",
              "\n",
              "    [theme=dark] .colab-df-convert {\n",
              "      background-color: #3B4455;\n",
              "      fill: #D2E3FC;\n",
              "    }\n",
              "\n",
              "    [theme=dark] .colab-df-convert:hover {\n",
              "      background-color: #434B5C;\n",
              "      box-shadow: 0px 1px 3px 1px rgba(0, 0, 0, 0.15);\n",
              "      filter: drop-shadow(0px 1px 2px rgba(0, 0, 0, 0.3));\n",
              "      fill: #FFFFFF;\n",
              "    }\n",
              "  </style>\n",
              "\n",
              "      <script>\n",
              "        const buttonEl =\n",
              "          document.querySelector('#df-2e072ef5-1d00-4887-821b-c6171a73d75f button.colab-df-convert');\n",
              "        buttonEl.style.display =\n",
              "          google.colab.kernel.accessAllowed ? 'block' : 'none';\n",
              "\n",
              "        async function convertToInteractive(key) {\n",
              "          const element = document.querySelector('#df-2e072ef5-1d00-4887-821b-c6171a73d75f');\n",
              "          const dataTable =\n",
              "            await google.colab.kernel.invokeFunction('convertToInteractive',\n",
              "                                                     [key], {});\n",
              "          if (!dataTable) return;\n",
              "\n",
              "          const docLinkHtml = 'Like what you see? Visit the ' +\n",
              "            '<a target=\"_blank\" href=https://colab.research.google.com/notebooks/data_table.ipynb>data table notebook</a>'\n",
              "            + ' to learn more about interactive tables.';\n",
              "          element.innerHTML = '';\n",
              "          dataTable['output_type'] = 'display_data';\n",
              "          await google.colab.output.renderOutput(dataTable, element);\n",
              "          const docLink = document.createElement('div');\n",
              "          docLink.innerHTML = docLinkHtml;\n",
              "          element.appendChild(docLink);\n",
              "        }\n",
              "      </script>\n",
              "    </div>\n",
              "  </div>\n",
              "  "
            ]
          },
          "metadata": {},
          "execution_count": 75
        }
      ]
    },
    {
      "cell_type": "markdown",
      "source": [
        "Cargo el dataset"
      ],
      "metadata": {
        "id": "mvnOpTMmNlyw"
      }
    },
    {
      "cell_type": "code",
      "source": [
        "df.isna().sum()"
      ],
      "metadata": {
        "colab": {
          "base_uri": "https://localhost:8080/"
        },
        "id": "gI-vTJG2ZdlC",
        "outputId": "11b6b4e4-eb58-444a-b663-f93732d7d0dd"
      },
      "execution_count": 76,
      "outputs": [
        {
          "output_type": "execute_result",
          "data": {
            "text/plain": [
              "age         0\n",
              "sex         0\n",
              "bmi         0\n",
              "children    0\n",
              "smoker      0\n",
              "region      0\n",
              "charges     0\n",
              "dtype: int64"
            ]
          },
          "metadata": {},
          "execution_count": 76
        }
      ]
    },
    {
      "cell_type": "markdown",
      "source": [
        "Verifico que no hayan nulos"
      ],
      "metadata": {
        "id": "9PZYho9CNnsn"
      }
    },
    {
      "cell_type": "code",
      "source": [
        "df.shape"
      ],
      "metadata": {
        "colab": {
          "base_uri": "https://localhost:8080/"
        },
        "id": "pP1bWiJYZjEz",
        "outputId": "98af18b1-0bf6-4d49-b5b4-a99a9a17e668"
      },
      "execution_count": 77,
      "outputs": [
        {
          "output_type": "execute_result",
          "data": {
            "text/plain": [
              "(1338, 7)"
            ]
          },
          "metadata": {},
          "execution_count": 77
        }
      ]
    },
    {
      "cell_type": "code",
      "source": [
        "df.columns\n"
      ],
      "metadata": {
        "colab": {
          "base_uri": "https://localhost:8080/"
        },
        "id": "PcK04hvLZlZF",
        "outputId": "a826a689-d801-4941-8efa-68a6289c265b"
      },
      "execution_count": 78,
      "outputs": [
        {
          "output_type": "execute_result",
          "data": {
            "text/plain": [
              "Index(['age', 'sex', 'bmi', 'children', 'smoker', 'region', 'charges'], dtype='object')"
            ]
          },
          "metadata": {},
          "execution_count": 78
        }
      ]
    },
    {
      "cell_type": "code",
      "source": [
        "df.columns = df.columns.str.strip()\n",
        "df.columns"
      ],
      "metadata": {
        "colab": {
          "base_uri": "https://localhost:8080/"
        },
        "id": "eua-IaKEZqiR",
        "outputId": "dbe8805c-eef8-45ef-82a3-70868934c896"
      },
      "execution_count": 79,
      "outputs": [
        {
          "output_type": "execute_result",
          "data": {
            "text/plain": [
              "Index(['age', 'sex', 'bmi', 'children', 'smoker', 'region', 'charges'], dtype='object')"
            ]
          },
          "metadata": {},
          "execution_count": 79
        }
      ]
    },
    {
      "cell_type": "code",
      "source": [
        "sns.pairplot(df[[\"charges\"]])"
      ],
      "metadata": {
        "colab": {
          "base_uri": "https://localhost:8080/",
          "height": 286
        },
        "id": "MW9ZF1GTjgKv",
        "outputId": "fc2343ac-c98e-4d80-cefc-9feaa0224489"
      },
      "execution_count": 80,
      "outputs": [
        {
          "output_type": "execute_result",
          "data": {
            "text/plain": [
              "<seaborn.axisgrid.PairGrid at 0x7f5e7e645630>"
            ]
          },
          "metadata": {},
          "execution_count": 80
        },
        {
          "output_type": "display_data",
          "data": {
            "text/plain": [
              "<Figure size 250x250 with 2 Axes>"
            ],
            "image/png": "[encoded data removed]"
          },
          "metadata": {}
        }
      ]
    },
    {
      "cell_type": "code",
      "source": [
        "sns.pairplot(np.log10(df[['charges']]))"
      ],
      "metadata": {
        "colab": {
          "base_uri": "https://localhost:8080/",
          "height": 286
        },
        "id": "XX299gpfkWop",
        "outputId": "4027b829-e7c8-4e7b-f3b1-393764ed4707"
      },
      "execution_count": 81,
      "outputs": [
        {
          "output_type": "execute_result",
          "data": {
            "text/plain": [
              "<seaborn.axisgrid.PairGrid at 0x7f5e7e647220>"
            ]
          },
          "metadata": {},
          "execution_count": 81
        },
        {
          "output_type": "display_data",
          "data": {
            "text/plain": [
              "<Figure size 250x250 with 2 Axes>"
            ],
            "image/png": "[encoded data removed]"
          },
          "metadata": {}
        }
      ]
    },
    {
      "cell_type": "code",
      "source": [
        "df.info()"
      ],
      "metadata": {
        "colab": {
          "base_uri": "https://localhost:8080/"
        },
        "id": "KCHEQnttkWqu",
        "outputId": "e96b1c47-403b-4865-b577-dfdb2b23046e"
      },
      "execution_count": 82,
      "outputs": [
        {
          "output_type": "stream",
          "name": "stdout",
          "text": [
            "<class 'pandas.core.frame.DataFrame'>\n",
            "RangeIndex: 1338 entries, 0 to 1337\n",
            "Data columns (total 7 columns):\n",
            " #   Column    Non-Null Count  Dtype  \n",
            "---  ------    --------------  -----  \n",
            " 0   age       1338 non-null   int64  \n",
            " 1   sex       1338 non-null   object \n",
            " 2   bmi       1338 non-null   float64\n",
            " 3   children  1338 non-null   int64  \n",
            " 4   smoker    1338 non-null   object \n",
            " 5   region    1338 non-null   object \n",
            " 6   charges   1338 non-null   float64\n",
            "dtypes: float64(2), int64(2), object(3)\n",
            "memory usage: 73.3+ KB\n"
          ]
        }
      ]
    },
    {
      "cell_type": "code",
      "source": [
        "x, y = df.drop([\"charges\"], axis = 1), df[\"charges\"]"
      ],
      "metadata": {
        "id": "tHdG1oIdkWtE"
      },
      "execution_count": 83,
      "outputs": []
    },
    {
      "cell_type": "markdown",
      "source": [
        "Saco la variable charges del analisis ya que es mi variable dependiente"
      ],
      "metadata": {
        "id": "nnDtlzfYN-0l"
      }
    },
    {
      "cell_type": "code",
      "source": [
        "from sklearn.model_selection import train_test_split\n",
        "X_train, X_test, y_train, y_test = train_test_split(x, y, random_state=42)"
      ],
      "metadata": {
        "id": "J7hVxJr9k02j"
      },
      "execution_count": 84,
      "outputs": []
    },
    {
      "cell_type": "code",
      "source": [
        "X_train"
      ],
      "metadata": {
        "colab": {
          "base_uri": "https://localhost:8080/",
          "height": 424
        },
        "id": "nN9-nnPZrGIT",
        "outputId": "367f520c-1104-41be-ac70-b386b1f5c2ce"
      },
      "execution_count": 85,
      "outputs": [
        {
          "output_type": "execute_result",
          "data": {
            "text/plain": [
              "      age     sex     bmi  children smoker     region\n",
              "693    24    male  23.655         0     no  northwest\n",
              "1297   28  female  26.510         2     no  southeast\n",
              "634    51    male  39.700         1     no  southwest\n",
              "1022   47    male  36.080         1    yes  southeast\n",
              "178    46  female  28.900         2     no  southwest\n",
              "...   ...     ...     ...       ...    ...        ...\n",
              "1095   18  female  31.350         4     no  northeast\n",
              "1130   39  female  23.870         5     no  southeast\n",
              "1294   58    male  25.175         0     no  northeast\n",
              "860    37  female  47.600         2    yes  southwest\n",
              "1126   55    male  29.900         0     no  southwest\n",
              "\n",
              "[1003 rows x 6 columns]"
            ],
            "text/html": [
              "\n",
              "  <div id=\"df-756d6bdb-0a15-4267-ab0b-5b9b6de0d97e\">\n",
              "    <div class=\"colab-df-container\">\n",
              "      <div>\n",
              "<style scoped>\n",
              "    .dataframe tbody tr th:only-of-type {\n",
              "        vertical-align: middle;\n",
              "    }\n",
              "\n",
              "    .dataframe tbody tr th {\n",
              "        vertical-align: top;\n",
              "    }\n",
              "\n",
              "    .dataframe thead th {\n",
              "        text-align: right;\n",
              "    }\n",
              "</style>\n",
              "<table border=\"1\" class=\"dataframe\">\n",
              "  <thead>\n",
              "    <tr style=\"text-align: right;\">\n",
              "      <th></th>\n",
              "      <th>age</th>\n",
              "      <th>sex</th>\n",
              "      <th>bmi</th>\n",
              "      <th>children</th>\n",
              "      <th>smoker</th>\n",
              "      <th>region</th>\n",
              "    </tr>\n",
              "  </thead>\n",
              "  <tbody>\n",
              "    <tr>\n",
              "      <th>693</th>\n",
              "      <td>24</td>\n",
              "      <td>male</td>\n",
              "      <td>23.655</td>\n",
              "      <td>0</td>\n",
              "      <td>no</td>\n",
              "      <td>northwest</td>\n",
              "    </tr>\n",
              "    <tr>\n",
              "      <th>1297</th>\n",
              "      <td>28</td>\n",
              "      <td>female</td>\n",
              "      <td>26.510</td>\n",
              "      <td>2</td>\n",
              "      <td>no</td>\n",
              "      <td>southeast</td>\n",
              "    </tr>\n",
              "    <tr>\n",
              "      <th>634</th>\n",
              "      <td>51</td>\n",
              "      <td>male</td>\n",
              "      <td>39.700</td>\n",
              "      <td>1</td>\n",
              "      <td>no</td>\n",
              "      <td>southwest</td>\n",
              "    </tr>\n",
              "    <tr>\n",
              "      <th>1022</th>\n",
              "      <td>47</td>\n",
              "      <td>male</td>\n",
              "      <td>36.080</td>\n",
              "      <td>1</td>\n",
              "      <td>yes</td>\n",
              "      <td>southeast</td>\n",
              "    </tr>\n",
              "    <tr>\n",
              "      <th>178</th>\n",
              "      <td>46</td>\n",
              "      <td>female</td>\n",
              "      <td>28.900</td>\n",
              "      <td>2</td>\n",
              "      <td>no</td>\n",
              "      <td>southwest</td>\n",
              "    </tr>\n",
              "    <tr>\n",
              "      <th>...</th>\n",
              "      <td>...</td>\n",
              "      <td>...</td>\n",
              "      <td>...</td>\n",
              "      <td>...</td>\n",
              "      <td>...</td>\n",
              "      <td>...</td>\n",
              "    </tr>\n",
              "    <tr>\n",
              "      <th>1095</th>\n",
              "      <td>18</td>\n",
              "      <td>female</td>\n",
              "      <td>31.350</td>\n",
              "      <td>4</td>\n",
              "      <td>no</td>\n",
              "      <td>northeast</td>\n",
              "    </tr>\n",
              "    <tr>\n",
              "      <th>1130</th>\n",
              "      <td>39</td>\n",
              "      <td>female</td>\n",
              "      <td>23.870</td>\n",
              "      <td>5</td>\n",
              "      <td>no</td>\n",
              "      <td>southeast</td>\n",
              "    </tr>\n",
              "    <tr>\n",
              "      <th>1294</th>\n",
              "      <td>58</td>\n",
              "      <td>male</td>\n",
              "      <td>25.175</td>\n",
              "      <td>0</td>\n",
              "      <td>no</td>\n",
              "      <td>northeast</td>\n",
              "    </tr>\n",
              "    <tr>\n",
              "      <th>860</th>\n",
              "      <td>37</td>\n",
              "      <td>female</td>\n",
              "      <td>47.600</td>\n",
              "      <td>2</td>\n",
              "      <td>yes</td>\n",
              "      <td>southwest</td>\n",
              "    </tr>\n",
              "    <tr>\n",
              "      <th>1126</th>\n",
              "      <td>55</td>\n",
              "      <td>male</td>\n",
              "      <td>29.900</td>\n",
              "      <td>0</td>\n",
              "      <td>no</td>\n",
              "      <td>southwest</td>\n",
              "    </tr>\n",
              "  </tbody>\n",
              "</table>\n",
              "<p>1003 rows × 6 columns</p>\n",
              "</div>\n",
              "      <button class=\"colab-df-convert\" onclick=\"convertToInteractive('df-756d6bdb-0a15-4267-ab0b-5b9b6de0d97e')\"\n",
              "              title=\"Convert this dataframe to an interactive table.\"\n",
              "              style=\"display:none;\">\n",
              "        \n",
              "  <svg xmlns=\"http://www.w3.org/2000/svg\" height=\"24px\"viewBox=\"0 0 24 24\"\n",
              "       width=\"24px\">\n",
              "    <path d=\"M0 0h24v24H0V0z\" fill=\"none\"/>\n",
              "    <path d=\"M18.56 5.44l.94 2.06.94-2.06 2.06-.94-2.06-.94-.94-2.06-.94 2.06-2.06.94zm-11 1L8.5 8.5l.94-2.06 2.06-.94-2.06-.94L8.5 2.5l-.94 2.06-2.06.94zm10 10l.94 2.06.94-2.06 2.06-.94-2.06-.94-.94-2.06-.94 2.06-2.06.94z\"/><path d=\"M17.41 7.96l-1.37-1.37c-.4-.4-.92-.59-1.43-.59-.52 0-1.04.2-1.43.59L10.3 9.45l-7.72 7.72c-.78.78-.78 2.05 0 2.83L4 21.41c.39.39.9.59 1.41.59.51 0 1.02-.2 1.41-.59l7.78-7.78 2.81-2.81c.8-.78.8-2.07 0-2.86zM5.41 20L4 18.59l7.72-7.72 1.47 1.35L5.41 20z\"/>\n",
              "  </svg>\n",
              "      </button>\n",
              "      \n",
              "  <style>\n",
              "    .colab-df-container {\n",
              "      display:flex;\n",
              "      flex-wrap:wrap;\n",
              "      gap: 12px;\n",
              "    }\n",
              "\n",
              "    .colab-df-convert {\n",
              "      background-color: #E8F0FE;\n",
              "      border: none;\n",
              "      border-radius: 50%;\n",
              "      cursor: pointer;\n",
              "      display: none;\n",
              "      fill: #1967D2;\n",
              "      height: 32px;\n",
              "      padding: 0 0 0 0;\n",
              "      width: 32px;\n",
              "    }\n",
              "\n",
              "    .colab-df-convert:hover {\n",
              "      background-color: #E2EBFA;\n",
              "      box-shadow: 0px 1px 2px rgba(60, 64, 67, 0.3), 0px 1px 3px 1px rgba(60, 64, 67, 0.15);\n",
              "      fill: #174EA6;\n",
              "    }\n",
              "\n",
              "    [theme=dark] .colab-df-convert {\n",
              "      background-color: #3B4455;\n",
              "      fill: #D2E3FC;\n",
              "    }\n",
              "\n",
              "    [theme=dark] .colab-df-convert:hover {\n",
              "      background-color: #434B5C;\n",
              "      box-shadow: 0px 1px 3px 1px rgba(0, 0, 0, 0.15);\n",
              "      filter: drop-shadow(0px 1px 2px rgba(0, 0, 0, 0.3));\n",
              "      fill: #FFFFFF;\n",
              "    }\n",
              "  </style>\n",
              "\n",
              "      <script>\n",
              "        const buttonEl =\n",
              "          document.querySelector('#df-756d6bdb-0a15-4267-ab0b-5b9b6de0d97e button.colab-df-convert');\n",
              "        buttonEl.style.display =\n",
              "          google.colab.kernel.accessAllowed ? 'block' : 'none';\n",
              "\n",
              "        async function convertToInteractive(key) {\n",
              "          const element = document.querySelector('#df-756d6bdb-0a15-4267-ab0b-5b9b6de0d97e');\n",
              "          const dataTable =\n",
              "            await google.colab.kernel.invokeFunction('convertToInteractive',\n",
              "                                                     [key], {});\n",
              "          if (!dataTable) return;\n",
              "\n",
              "          const docLinkHtml = 'Like what you see? Visit the ' +\n",
              "            '<a target=\"_blank\" href=https://colab.research.google.com/notebooks/data_table.ipynb>data table notebook</a>'\n",
              "            + ' to learn more about interactive tables.';\n",
              "          element.innerHTML = '';\n",
              "          dataTable['output_type'] = 'display_data';\n",
              "          await google.colab.output.renderOutput(dataTable, element);\n",
              "          const docLink = document.createElement('div');\n",
              "          docLink.innerHTML = docLinkHtml;\n",
              "          element.appendChild(docLink);\n",
              "        }\n",
              "      </script>\n",
              "    </div>\n",
              "  </div>\n",
              "  "
            ]
          },
          "metadata": {},
          "execution_count": 85
        }
      ]
    },
    {
      "cell_type": "code",
      "source": [
        "y_train"
      ],
      "metadata": {
        "colab": {
          "base_uri": "https://localhost:8080/"
        },
        "id": "jAvuVqKKrH9f",
        "outputId": "5b54cf44-e36d-4ed1-d535-6008bca8e869"
      },
      "execution_count": 86,
      "outputs": [
        {
          "output_type": "execute_result",
          "data": {
            "text/plain": [
              "693      2352.96845\n",
              "1297     4340.44090\n",
              "634      9391.34600\n",
              "1022    42211.13820\n",
              "178      8823.27900\n",
              "           ...     \n",
              "1095     4561.18850\n",
              "1130     8582.30230\n",
              "1294    11931.12525\n",
              "860     46113.51100\n",
              "1126    10214.63600\n",
              "Name: charges, Length: 1003, dtype: float64"
            ]
          },
          "metadata": {},
          "execution_count": 86
        }
      ]
    },
    {
      "cell_type": "code",
      "source": [
        "from sklearn.compose import make_column_transformer\n",
        "from sklearn.preprocessing import OneHotEncoder\n",
        "\n",
        "caterogical_columns = [\"sex\", \"smoker\", \"region\"]\n",
        "numerical_columns = [\"age\", \"bmi\", \"children\"]\n",
        "\n",
        "preprocessor = make_column_transformer((OneHotEncoder(drop=\"if_binary\"), caterogical_columns),\n",
        "                                       remainder=\"passthrough\",\n",
        "                                       verbose_feature_names_out=False,)"
      ],
      "metadata": {
        "id": "LfywJS3Ek040"
      },
      "execution_count": 87,
      "outputs": []
    },
    {
      "cell_type": "markdown",
      "source": [
        " Hago un preprocesador de columnas que aplica codificación one-hot a las columnas categóricas y mantiene las columnas numéricas sin transformación. El preprocesador se puede utilizar en un pipeline de aprendizaje automático para realizar transformaciones en los datos antes de entrenar un modelo."
      ],
      "metadata": {
        "id": "nXya0vS5ObCR"
      }
    },
    {
      "cell_type": "code",
      "source": [
        "from sklearn.pipeline import make_pipeline\n",
        "from sklearn.linear_model import Ridge\n",
        "from sklearn.compose import TransformedTargetRegressor\n",
        "import scipy as sp"
      ],
      "metadata": {
        "id": "hjFyAhurk067"
      },
      "execution_count": 88,
      "outputs": []
    },
    {
      "cell_type": "code",
      "source": [
        "model = make_pipeline(\n",
        "    preprocessor,\n",
        "    TransformedTargetRegressor(regressor=Ridge (alpha=1e-10), func=np.log10, inverse_func=sp.special.exp10),\n",
        ")"
      ],
      "metadata": {
        "id": "wB8Xji_uk09Q"
      },
      "execution_count": 89,
      "outputs": []
    },
    {
      "cell_type": "markdown",
      "source": [
        " Hago un pipeline que aplica el preprocesamiento de columnas y luego entreno un modelo de regresión Ridge con una transformación logarítmica en el objetivo. El pipeline se utiliza para entrenar y realizar predicciones en datos de entrada."
      ],
      "metadata": {
        "id": "Q2qvqnuvQG-o"
      }
    },
    {
      "cell_type": "code",
      "source": [
        "model.fit(X_train, y_train)"
      ],
      "metadata": {
        "colab": {
          "base_uri": "https://localhost:8080/",
          "height": 258
        },
        "id": "wba9PismaFU0",
        "outputId": "cbb479d8-ef24-4892-9542-62308d449713"
      },
      "execution_count": 90,
      "outputs": [
        {
          "output_type": "execute_result",
          "data": {
            "text/plain": [
              "Pipeline(steps=[('columntransformer',\n",
              "                 ColumnTransformer(remainder='passthrough',\n",
              "                                   transformers=[('onehotencoder',\n",
              "                                                  OneHotEncoder(drop='if_binary'),\n",
              "                                                  ['sex', 'smoker', 'region'])],\n",
              "                                   verbose_feature_names_out=False)),\n",
              "                ('transformedtargetregressor',\n",
              "                 TransformedTargetRegressor(func=<ufunc 'log10'>,\n",
              "                                            inverse_func=<ufunc 'exp10'>,\n",
              "                                            regressor=Ridge(alpha=1e-10)))])"
            ],
            "text/html": [
              "<style>#sk-container-id-3 {color: black;background-color: white;}#sk-container-id-3 pre{padding: 0;}#sk-container-id-3 div.sk-toggleable {background-color: white;}#sk-container-id-3 label.sk-toggleable__label {cursor: pointer;display: block;width: 100%;margin-bottom: 0;padding: 0.3em;box-sizing: border-box;text-align: center;}#sk-container-id-3 label.sk-toggleable__label-arrow:before {content: \"▸\";float: left;margin-right: 0.25em;color: #696969;}#sk-container-id-3 label.sk-toggleable__label-arrow:hover:before {color: black;}#sk-container-id-3 div.sk-estimator:hover label.sk-toggleable__label-arrow:before {color: black;}#sk-container-id-3 div.sk-toggleable__content {max-height: 0;max-width: 0;overflow: hidden;text-align: left;background-color: #f0f8ff;}#sk-container-id-3 div.sk-toggleable__content pre {margin: 0.2em;color: black;border-radius: 0.25em;background-color: #f0f8ff;}#sk-container-id-3 input.sk-toggleable__control:checked~div.sk-toggleable__content {max-height: 200px;max-width: 100%;overflow: auto;}#sk-container-id-3 input.sk-toggleable__control:checked~label.sk-toggleable__label-arrow:before {content: \"▾\";}#sk-container-id-3 div.sk-estimator input.sk-toggleable__control:checked~label.sk-toggleable__label {background-color: #d4ebff;}#sk-container-id-3 div.sk-label input.sk-toggleable__control:checked~label.sk-toggleable__label {background-color: #d4ebff;}#sk-container-id-3 input.sk-hidden--visually {border: 0;clip: rect(1px 1px 1px 1px);clip: rect(1px, 1px, 1px, 1px);height: 1px;margin: -1px;overflow: hidden;padding: 0;position: absolute;width: 1px;}#sk-container-id-3 div.sk-estimator {font-family: monospace;background-color: #f0f8ff;border: 1px dotted black;border-radius: 0.25em;box-sizing: border-box;margin-bottom: 0.5em;}#sk-container-id-3 div.sk-estimator:hover {background-color: #d4ebff;}#sk-container-id-3 div.sk-parallel-item::after {content: \"\";width: 100%;border-bottom: 1px solid gray;flex-grow: 1;}#sk-container-id-3 div.sk-label:hover label.sk-toggleable__label {background-color: #d4ebff;}#sk-container-id-3 div.sk-serial::before {content: \"\";position: absolute;border-left: 1px solid gray;box-sizing: border-box;top: 0;bottom: 0;left: 50%;z-index: 0;}#sk-container-id-3 div.sk-serial {display: flex;flex-direction: column;align-items: center;background-color: white;padding-right: 0.2em;padding-left: 0.2em;position: relative;}#sk-container-id-3 div.sk-item {position: relative;z-index: 1;}#sk-container-id-3 div.sk-parallel {display: flex;align-items: stretch;justify-content: center;background-color: white;position: relative;}#sk-container-id-3 div.sk-item::before, #sk-container-id-3 div.sk-parallel-item::before {content: \"\";position: absolute;border-left: 1px solid gray;box-sizing: border-box;top: 0;bottom: 0;left: 50%;z-index: -1;}#sk-container-id-3 div.sk-parallel-item {display: flex;flex-direction: column;z-index: 1;position: relative;background-color: white;}#sk-container-id-3 div.sk-parallel-item:first-child::after {align-self: flex-end;width: 50%;}#sk-container-id-3 div.sk-parallel-item:last-child::after {align-self: flex-start;width: 50%;}#sk-container-id-3 div.sk-parallel-item:only-child::after {width: 0;}#sk-container-id-3 div.sk-dashed-wrapped {border: 1px dashed gray;margin: 0 0.4em 0.5em 0.4em;box-sizing: border-box;padding-bottom: 0.4em;background-color: white;}#sk-container-id-3 div.sk-label label {font-family: monospace;font-weight: bold;display: inline-block;line-height: 1.2em;}#sk-container-id-3 div.sk-label-container {text-align: center;}#sk-container-id-3 div.sk-container {/* jupyter's `normalize.less` sets `[hidden] { display: none; }` but bootstrap.min.css set `[hidden] { display: none !important; }` so we also need the `!important` here to be able to override the default hidden behavior on the sphinx rendered scikit-learn.org. See: https://github.com/scikit-learn/scikit-learn/issues/21755 */display: inline-block !important;position: relative;}#sk-container-id-3 div.sk-text-repr-fallback {display: none;}</style><div id=\"sk-container-id-3\" class=\"sk-top-container\"><div class=\"sk-text-repr-fallback\"><pre>Pipeline(steps=[(&#x27;columntransformer&#x27;,\n",
              "                 ColumnTransformer(remainder=&#x27;passthrough&#x27;,\n",
              "                                   transformers=[(&#x27;onehotencoder&#x27;,\n",
              "                                                  OneHotEncoder(drop=&#x27;if_binary&#x27;),\n",
              "                                                  [&#x27;sex&#x27;, &#x27;smoker&#x27;, &#x27;region&#x27;])],\n",
              "                                   verbose_feature_names_out=False)),\n",
              "                (&#x27;transformedtargetregressor&#x27;,\n",
              "                 TransformedTargetRegressor(func=&lt;ufunc &#x27;log10&#x27;&gt;,\n",
              "                                            inverse_func=&lt;ufunc &#x27;exp10&#x27;&gt;,\n",
              "                                            regressor=Ridge(alpha=1e-10)))])</pre><b>In a Jupyter environment, please rerun this cell to show the HTML representation or trust the notebook. <br />On GitHub, the HTML representation is unable to render, please try loading this page with nbviewer.org.</b></div><div class=\"sk-container\" hidden><div class=\"sk-item sk-dashed-wrapped\"><div class=\"sk-label-container\"><div class=\"sk-label sk-toggleable\"><input class=\"sk-toggleable__control sk-hidden--visually\" id=\"sk-estimator-id-19\" type=\"checkbox\" ><label for=\"sk-estimator-id-19\" class=\"sk-toggleable__label sk-toggleable__label-arrow\">Pipeline</label><div class=\"sk-toggleable__content\"><pre>Pipeline(steps=[(&#x27;columntransformer&#x27;,\n",
              "                 ColumnTransformer(remainder=&#x27;passthrough&#x27;,\n",
              "                                   transformers=[(&#x27;onehotencoder&#x27;,\n",
              "                                                  OneHotEncoder(drop=&#x27;if_binary&#x27;),\n",
              "                                                  [&#x27;sex&#x27;, &#x27;smoker&#x27;, &#x27;region&#x27;])],\n",
              "                                   verbose_feature_names_out=False)),\n",
              "                (&#x27;transformedtargetregressor&#x27;,\n",
              "                 TransformedTargetRegressor(func=&lt;ufunc &#x27;log10&#x27;&gt;,\n",
              "                                            inverse_func=&lt;ufunc &#x27;exp10&#x27;&gt;,\n",
              "                                            regressor=Ridge(alpha=1e-10)))])</pre></div></div></div><div class=\"sk-serial\"><div class=\"sk-item sk-dashed-wrapped\"><div class=\"sk-label-container\"><div class=\"sk-label sk-toggleable\"><input class=\"sk-toggleable__control sk-hidden--visually\" id=\"sk-estimator-id-20\" type=\"checkbox\" ><label for=\"sk-estimator-id-20\" class=\"sk-toggleable__label sk-toggleable__label-arrow\">columntransformer: ColumnTransformer</label><div class=\"sk-toggleable__content\"><pre>ColumnTransformer(remainder=&#x27;passthrough&#x27;,\n",
              "                  transformers=[(&#x27;onehotencoder&#x27;,\n",
              "                                 OneHotEncoder(drop=&#x27;if_binary&#x27;),\n",
              "                                 [&#x27;sex&#x27;, &#x27;smoker&#x27;, &#x27;region&#x27;])],\n",
              "                  verbose_feature_names_out=False)</pre></div></div></div><div class=\"sk-parallel\"><div class=\"sk-parallel-item\"><div class=\"sk-item\"><div class=\"sk-label-container\"><div class=\"sk-label sk-toggleable\"><input class=\"sk-toggleable__control sk-hidden--visually\" id=\"sk-estimator-id-21\" type=\"checkbox\" ><label for=\"sk-estimator-id-21\" class=\"sk-toggleable__label sk-toggleable__label-arrow\">onehotencoder</label><div class=\"sk-toggleable__content\"><pre>[&#x27;sex&#x27;, &#x27;smoker&#x27;, &#x27;region&#x27;]</pre></div></div></div><div class=\"sk-serial\"><div class=\"sk-item\"><div class=\"sk-estimator sk-toggleable\"><input class=\"sk-toggleable__control sk-hidden--visually\" id=\"sk-estimator-id-22\" type=\"checkbox\" ><label for=\"sk-estimator-id-22\" class=\"sk-toggleable__label sk-toggleable__label-arrow\">OneHotEncoder</label><div class=\"sk-toggleable__content\"><pre>OneHotEncoder(drop=&#x27;if_binary&#x27;)</pre></div></div></div></div></div></div><div class=\"sk-parallel-item\"><div class=\"sk-item\"><div class=\"sk-label-container\"><div class=\"sk-label sk-toggleable\"><input class=\"sk-toggleable__control sk-hidden--visually\" id=\"sk-estimator-id-23\" type=\"checkbox\" ><label for=\"sk-estimator-id-23\" class=\"sk-toggleable__label sk-toggleable__label-arrow\">remainder</label><div class=\"sk-toggleable__content\"><pre>[&#x27;age&#x27;, &#x27;bmi&#x27;, &#x27;children&#x27;]</pre></div></div></div><div class=\"sk-serial\"><div class=\"sk-item\"><div class=\"sk-estimator sk-toggleable\"><input class=\"sk-toggleable__control sk-hidden--visually\" id=\"sk-estimator-id-24\" type=\"checkbox\" ><label for=\"sk-estimator-id-24\" class=\"sk-toggleable__label sk-toggleable__label-arrow\">passthrough</label><div class=\"sk-toggleable__content\"><pre>passthrough</pre></div></div></div></div></div></div></div></div><div class=\"sk-item sk-dashed-wrapped\"><div class=\"sk-label-container\"><div class=\"sk-label sk-toggleable\"><input class=\"sk-toggleable__control sk-hidden--visually\" id=\"sk-estimator-id-25\" type=\"checkbox\" ><label for=\"sk-estimator-id-25\" class=\"sk-toggleable__label sk-toggleable__label-arrow\">transformedtargetregressor: TransformedTargetRegressor</label><div class=\"sk-toggleable__content\"><pre>TransformedTargetRegressor(func=&lt;ufunc &#x27;log10&#x27;&gt;, inverse_func=&lt;ufunc &#x27;exp10&#x27;&gt;,\n",
              "                           regressor=Ridge(alpha=1e-10))</pre></div></div></div><div class=\"sk-parallel\"><div class=\"sk-parallel-item\"><div class=\"sk-item\"><div class=\"sk-label-container\"><div class=\"sk-label sk-toggleable\"><input class=\"sk-toggleable__control sk-hidden--visually\" id=\"sk-estimator-id-26\" type=\"checkbox\" ><label for=\"sk-estimator-id-26\" class=\"sk-toggleable__label sk-toggleable__label-arrow\">regressor: Ridge</label><div class=\"sk-toggleable__content\"><pre>Ridge(alpha=1e-10)</pre></div></div></div><div class=\"sk-serial\"><div class=\"sk-item\"><div class=\"sk-estimator sk-toggleable\"><input class=\"sk-toggleable__control sk-hidden--visually\" id=\"sk-estimator-id-27\" type=\"checkbox\" ><label for=\"sk-estimator-id-27\" class=\"sk-toggleable__label sk-toggleable__label-arrow\">Ridge</label><div class=\"sk-toggleable__content\"><pre>Ridge(alpha=1e-10)</pre></div></div></div></div></div></div></div></div></div></div></div></div>"
            ]
          },
          "metadata": {},
          "execution_count": 90
        }
      ]
    },
    {
      "cell_type": "markdown",
      "source": [
        "Ajusto los parámetros del modelo utilizando los datos de entrenamiento"
      ],
      "metadata": {
        "id": "iiGhpLvhQWj5"
      }
    },
    {
      "cell_type": "code",
      "source": [
        "from sklearn.metrics import median_absolute_error\n",
        "\n",
        "y_pred = model.predict(X_train)\n",
        "\n",
        "mae = median_absolute_error(y_train, y_pred)\n",
        "string_score = f\"MAE on training set: {mae: 2f} euros\"\n",
        "y_pred = model.predict(X_test)\n",
        "mae = median_absolute_error(y_test, y_pred)\n",
        "string_score += f\"\\nMAR on testing set: {mae: 2f} euros\""
      ],
      "metadata": {
        "id": "I3PX390xaNGn"
      },
      "execution_count": 91,
      "outputs": []
    },
    {
      "cell_type": "markdown",
      "source": [
        "Se realizan evaluaciones del rendimiento del modelo utilizando el MAE.\n",
        "\n",
        "Almaceno las predicciones en y_pred.\n",
        "\n",
        "Depues calculo el MAE comparando las predicciones del modelo y_pred con los valores reales del conjunto de datos de entrenamiento y_train.\n",
        "\n",
        "Luego, se construye una cadena de texto string_score que muestra el valor del MAE en el conjunto de datos de entrenamiento.\n",
        "\n",
        "A continuación, se utilizan las mismas operaciones para calcular el MAE en el conjunto de datos de prueba (X_test y y_test). Las predicciones se almacenan en y_pred y se calcula el MAE comparando las predicciones con los valores reales.\n",
        "\n",
        "Finalmente, se actualiza la cadena de texto string_score para incluir el valor del MAE en el conjunto de datos de prueba."
      ],
      "metadata": {
        "id": "qJCPJXUPRCzx"
      }
    },
    {
      "cell_type": "code",
      "source": [
        "print(string_score)"
      ],
      "metadata": {
        "colab": {
          "base_uri": "https://localhost:8080/"
        },
        "id": "Ra6OgxvYQ3sa",
        "outputId": "a8b18b9e-268c-4527-e54b-67cb6164a7f0"
      },
      "execution_count": 92,
      "outputs": [
        {
          "output_type": "stream",
          "name": "stdout",
          "text": [
            "MAE on training set:  933.902042 euros\n",
            "MAR on testing set:  953.419613 euros\n"
          ]
        }
      ]
    },
    {
      "cell_type": "markdown",
      "source": [
        "En este caso, el valor del MAE en el conjunto de datos de entrenamiento es de 933.902042 euros, lo que significa que, en promedio, las predicciones del modelo difieren de los valores reales en aproximadamente 933.902042 euros en el conjunto de datos de entrenamiento.\n",
        "\n",
        "El valor del MAE en el conjunto de datos de prueba es de 953.419613 euros, lo que indica que, en promedio, las predicciones del modelo difieren de los valores reales en aproximadamente 953.419613 euros en el conjunto de datos de prueba.\n",
        "\n"
      ],
      "metadata": {
        "id": "WczvUVPoEIMd"
      }
    },
    {
      "cell_type": "code",
      "source": [
        "import matplotlib.pyplot as plt"
      ],
      "metadata": {
        "id": "z0WGho1lu26T"
      },
      "execution_count": 93,
      "outputs": []
    },
    {
      "cell_type": "code",
      "source": [
        "fig, ax = plt.subplots (figsize = (5,5))\n",
        "plt.scatter(y_test, y_pred)\n",
        "ax.plot([0, 1], [0, 1], transform=ax.transAxes, ls=\"--\", c=\"red\")\n",
        "plt.text(50000, 20000, string_score)\n",
        "plt.title(\"Ridge model, small regularization\")\n",
        "plt.ylabel(\"Model predictions\")\n",
        "plt.xlabel(\"Truths\")"
      ],
      "metadata": {
        "colab": {
          "base_uri": "https://localhost:8080/",
          "height": 505
        },
        "id": "f1KedhH0aNJL",
        "outputId": "d1d68f66-bcd1-4426-b84c-b189166d6ac8"
      },
      "execution_count": 94,
      "outputs": [
        {
          "output_type": "execute_result",
          "data": {
            "text/plain": [
              "Text(0.5, 0, 'Truths')"
            ]
          },
          "metadata": {},
          "execution_count": 94
        },
        {
          "output_type": "display_data",
          "data": {
            "text/plain": [
              "<Figure size 500x500 with 1 Axes>"
            ],
            "image/png": "[encoded data removed]"
          },
          "metadata": {}
        }
      ]
    },
    {
      "cell_type": "code",
      "source": [
        "feature_names = model[:-1].get_feature_names_out()\n",
        "\n",
        "coefs = pd.DataFrame(\n",
        "    model[-1].regressor_.coef_,\n",
        "    columns=[\"Coefficients\"],\n",
        "    index=feature_names\n",
        ")\n",
        "\n",
        "coefs"
      ],
      "metadata": {
        "colab": {
          "base_uri": "https://localhost:8080/",
          "height": 332
        },
        "id": "4tKy8L_2aNLR",
        "outputId": "19bcf240-977b-4858-8bc7-a21e479ead09"
      },
      "execution_count": 95,
      "outputs": [
        {
          "output_type": "execute_result",
          "data": {
            "text/plain": [
              "                  Coefficients\n",
              "sex_male             -0.032023\n",
              "smoker_yes            0.671235\n",
              "region_northeast      0.034845\n",
              "region_northwest      0.009644\n",
              "region_southeast     -0.026922\n",
              "region_southwest     -0.017383\n",
              "age                   0.015050\n",
              "bmi                   0.005766\n",
              "children              0.041345"
            ],
            "text/html": [
              "\n",
              "  <div id=\"df-4e837ad9-cbf6-4902-a803-3a1f833f4f14\">\n",
              "    <div class=\"colab-df-container\">\n",
              "      <div>\n",
              "<style scoped>\n",
              "    .dataframe tbody tr th:only-of-type {\n",
              "        vertical-align: middle;\n",
              "    }\n",
              "\n",
              "    .dataframe tbody tr th {\n",
              "        vertical-align: top;\n",
              "    }\n",
              "\n",
              "    .dataframe thead th {\n",
              "        text-align: right;\n",
              "    }\n",
              "</style>\n",
              "<table border=\"1\" class=\"dataframe\">\n",
              "  <thead>\n",
              "    <tr style=\"text-align: right;\">\n",
              "      <th></th>\n",
              "      <th>Coefficients</th>\n",
              "    </tr>\n",
              "  </thead>\n",
              "  <tbody>\n",
              "    <tr>\n",
              "      <th>sex_male</th>\n",
              "      <td>-0.032023</td>\n",
              "    </tr>\n",
              "    <tr>\n",
              "      <th>smoker_yes</th>\n",
              "      <td>0.671235</td>\n",
              "    </tr>\n",
              "    <tr>\n",
              "      <th>region_northeast</th>\n",
              "      <td>0.034845</td>\n",
              "    </tr>\n",
              "    <tr>\n",
              "      <th>region_northwest</th>\n",
              "      <td>0.009644</td>\n",
              "    </tr>\n",
              "    <tr>\n",
              "      <th>region_southeast</th>\n",
              "      <td>-0.026922</td>\n",
              "    </tr>\n",
              "    <tr>\n",
              "      <th>region_southwest</th>\n",
              "      <td>-0.017383</td>\n",
              "    </tr>\n",
              "    <tr>\n",
              "      <th>age</th>\n",
              "      <td>0.015050</td>\n",
              "    </tr>\n",
              "    <tr>\n",
              "      <th>bmi</th>\n",
              "      <td>0.005766</td>\n",
              "    </tr>\n",
              "    <tr>\n",
              "      <th>children</th>\n",
              "      <td>0.041345</td>\n",
              "    </tr>\n",
              "  </tbody>\n",
              "</table>\n",
              "</div>\n",
              "      <button class=\"colab-df-convert\" onclick=\"convertToInteractive('df-4e837ad9-cbf6-4902-a803-3a1f833f4f14')\"\n",
              "              title=\"Convert this dataframe to an interactive table.\"\n",
              "              style=\"display:none;\">\n",
              "        \n",
              "  <svg xmlns=\"http://www.w3.org/2000/svg\" height=\"24px\"viewBox=\"0 0 24 24\"\n",
              "       width=\"24px\">\n",
              "    <path d=\"M0 0h24v24H0V0z\" fill=\"none\"/>\n",
              "    <path d=\"M18.56 5.44l.94 2.06.94-2.06 2.06-.94-2.06-.94-.94-2.06-.94 2.06-2.06.94zm-11 1L8.5 8.5l.94-2.06 2.06-.94-2.06-.94L8.5 2.5l-.94 2.06-2.06.94zm10 10l.94 2.06.94-2.06 2.06-.94-2.06-.94-.94-2.06-.94 2.06-2.06.94z\"/><path d=\"M17.41 7.96l-1.37-1.37c-.4-.4-.92-.59-1.43-.59-.52 0-1.04.2-1.43.59L10.3 9.45l-7.72 7.72c-.78.78-.78 2.05 0 2.83L4 21.41c.39.39.9.59 1.41.59.51 0 1.02-.2 1.41-.59l7.78-7.78 2.81-2.81c.8-.78.8-2.07 0-2.86zM5.41 20L4 18.59l7.72-7.72 1.47 1.35L5.41 20z\"/>\n",
              "  </svg>\n",
              "      </button>\n",
              "      \n",
              "  <style>\n",
              "    .colab-df-container {\n",
              "      display:flex;\n",
              "      flex-wrap:wrap;\n",
              "      gap: 12px;\n",
              "    }\n",
              "\n",
              "    .colab-df-convert {\n",
              "      background-color: #E8F0FE;\n",
              "      border: none;\n",
              "      border-radius: 50%;\n",
              "      cursor: pointer;\n",
              "      display: none;\n",
              "      fill: #1967D2;\n",
              "      height: 32px;\n",
              "      padding: 0 0 0 0;\n",
              "      width: 32px;\n",
              "    }\n",
              "\n",
              "    .colab-df-convert:hover {\n",
              "      background-color: #E2EBFA;\n",
              "      box-shadow: 0px 1px 2px rgba(60, 64, 67, 0.3), 0px 1px 3px 1px rgba(60, 64, 67, 0.15);\n",
              "      fill: #174EA6;\n",
              "    }\n",
              "\n",
              "    [theme=dark] .colab-df-convert {\n",
              "      background-color: #3B4455;\n",
              "      fill: #D2E3FC;\n",
              "    }\n",
              "\n",
              "    [theme=dark] .colab-df-convert:hover {\n",
              "      background-color: #434B5C;\n",
              "      box-shadow: 0px 1px 3px 1px rgba(0, 0, 0, 0.15);\n",
              "      filter: drop-shadow(0px 1px 2px rgba(0, 0, 0, 0.3));\n",
              "      fill: #FFFFFF;\n",
              "    }\n",
              "  </style>\n",
              "\n",
              "      <script>\n",
              "        const buttonEl =\n",
              "          document.querySelector('#df-4e837ad9-cbf6-4902-a803-3a1f833f4f14 button.colab-df-convert');\n",
              "        buttonEl.style.display =\n",
              "          google.colab.kernel.accessAllowed ? 'block' : 'none';\n",
              "\n",
              "        async function convertToInteractive(key) {\n",
              "          const element = document.querySelector('#df-4e837ad9-cbf6-4902-a803-3a1f833f4f14');\n",
              "          const dataTable =\n",
              "            await google.colab.kernel.invokeFunction('convertToInteractive',\n",
              "                                                     [key], {});\n",
              "          if (!dataTable) return;\n",
              "\n",
              "          const docLinkHtml = 'Like what you see? Visit the ' +\n",
              "            '<a target=\"_blank\" href=https://colab.research.google.com/notebooks/data_table.ipynb>data table notebook</a>'\n",
              "            + ' to learn more about interactive tables.';\n",
              "          element.innerHTML = '';\n",
              "          dataTable['output_type'] = 'display_data';\n",
              "          await google.colab.output.renderOutput(dataTable, element);\n",
              "          const docLink = document.createElement('div');\n",
              "          docLink.innerHTML = docLinkHtml;\n",
              "          element.appendChild(docLink);\n",
              "        }\n",
              "      </script>\n",
              "    </div>\n",
              "  </div>\n",
              "  "
            ]
          },
          "metadata": {},
          "execution_count": 95
        }
      ]
    },
    {
      "cell_type": "markdown",
      "source": [
        "Estos coeficientes representan el impacto relativo de cada característica en la predicción del valor objetivo (en este caso, el costo del seguro). Cada coeficiente indica la dirección (positiva o negativa) y la magnitud del efecto que la característica tiene sobre el costo del seguro.\n",
        "\n",
        "Cómo podemos ver un factor clave que influye en el precio del seguro de vida es si fuma o no."
      ],
      "metadata": {
        "id": "dGNUDGHGE7VI"
      }
    },
    {
      "cell_type": "code",
      "source": [
        "coefs.plot.barh(figsize=(9,7))\n",
        "plt.title(\"Ridge model, small regularization\")\n",
        "plt.axvline(x=0, color=\".5\")\n",
        "plt.xlabel(\"Raw coefficient values\")\n",
        "plt.subplots_adjust(left=0.3)"
      ],
      "metadata": {
        "colab": {
          "base_uri": "https://localhost:8080/",
          "height": 641
        },
        "id": "de1hlLKmwFkJ",
        "outputId": "24887e82-12cf-4899-9ff1-470811816d81"
      },
      "execution_count": 96,
      "outputs": [
        {
          "output_type": "display_data",
          "data": {
            "text/plain": [
              "<Figure size 900x700 with 1 Axes>"
            ],
            "image/png": "[encoded data removed]"
          },
          "metadata": {}
        }
      ]
    },
    {
      "cell_type": "markdown",
      "source": [
        "Aca podemos ver un gráfico de barras horizontales que muestra los coeficientes del modelo de regresión, lo que te da la importancia relativa de cada característica en la predicción del costo del seguro de vida."
      ],
      "metadata": {
        "id": "tmdjSp3dFMAe"
      }
    },
    {
      "cell_type": "code",
      "source": [
        "X_train_preprocessed = pd.DataFrame(\n",
        "    model[:-1].transform(X_train), columns=feature_names\n",
        ")\n",
        "\n",
        "X_train_preprocessed.std(axis=0).plot.barh(figsize=(9,7))\n",
        "plt.title(\"Feature ranges\")\n",
        "plt.xlabel(\"Std. dev. of feature values\")\n",
        "plt.subplots_adjust(left=0.3)"
      ],
      "metadata": {
        "colab": {
          "base_uri": "https://localhost:8080/",
          "height": 641
        },
        "id": "ZuXEsItnwFmY",
        "outputId": "5ae84f3a-abd4-436e-fd7b-1611b9469258"
      },
      "execution_count": 97,
      "outputs": [
        {
          "output_type": "display_data",
          "data": {
            "text/plain": [
              "<Figure size 900x700 with 1 Axes>"
            ],
            "image/png": "[encoded data removed]"
          },
          "metadata": {}
        }
      ]
    },
    {
      "cell_type": "markdown",
      "source": [
        "Aca vemos un gráfico de barras horizontales que muestra las desviaciones estándar de las características en el conjunto de entrenamiento preprocesado. Esto te permite visualizar la variabilidad de las características y tener una idea de la escala y rango de valores de cada una.\n",
        "\n",
        " Podemos ver que \"age\" y \"bmi\" tienen barras más largas, significa que estas características tienen una mayor desviacion estaandar en comparacion con las demás características."
      ],
      "metadata": {
        "id": "zTFWBa2xFjFP"
      }
    },
    {
      "cell_type": "code",
      "source": [
        "coefs = pd.DataFrame(\n",
        "    model[-1].regressor_.coef_ * X_train_preprocessed.std(axis=0),\n",
        "    columns=[\"Coefficient importance\"],\n",
        "    index=feature_names,\n",
        ")\n",
        "coefs.plot(kind=\"barh\", figsize=(9,7))\n",
        "plt.xlabel(\"Coefficient values corrected by the feature's std. dev.\")\n",
        "plt.title(\"Ridge model, small regularization\")\n",
        "plt.axvline(x=0, color=\".5\")\n",
        "plt.subplots_adjust(left=0.3)"
      ],
      "metadata": {
        "colab": {
          "base_uri": "https://localhost:8080/",
          "height": 641
        },
        "id": "ZVZvF6SxwFoe",
        "outputId": "4991bcbd-0d8d-429a-be58-1751956dd187"
      },
      "execution_count": 98,
      "outputs": [
        {
          "output_type": "display_data",
          "data": {
            "text/plain": [
              "<Figure size 900x700 with 1 Axes>"
            ],
            "image/png": "[encoded data removed]"
          },
          "metadata": {}
        }
      ]
    },
    {
      "cell_type": "markdown",
      "source": [
        "En este gráfico podemos ver una representación visual de la importancia relativa de cada característica corrigiendo los coeficientes por la desviación estándar. Ayuda a identificar qué características tienen una mayor influencia en el resultado del modelo en comparación con otras características.\n",
        "\n",
        "Cómo es evidente la edad y si fuma o no, son las que tienen mayor influencia en el precio del seguro."
      ],
      "metadata": {
        "id": "rfmgfXdSGWAR"
      }
    },
    {
      "cell_type": "code",
      "source": [
        "from sklearn.model_selection import cross_validate, RepeatedKFold\n",
        "from sklearn.metrics import make_scorer\n",
        "from sklearn.compose import TransformedTargetRegressor\n",
        "import pandas as pd"
      ],
      "metadata": {
        "id": "_jl7Ki6_EEce"
      },
      "execution_count": 99,
      "outputs": []
    },
    {
      "cell_type": "code",
      "source": [
        "cv = RepeatedKFold(n_splits=5, n_repeats=5, random_state=0)\n",
        "cv_model = cross_validate(\n",
        "    model,\n",
        "    x,\n",
        "    y,\n",
        "    cv=cv,\n",
        "    return_estimator=True,\n",
        "    n_jobs=2,\n",
        ")\n",
        "coefs = pd.DataFrame(\n",
        "    [\n",
        "        est[-1].regressor_.coef_\n",
        "        for est, (train_idx, _) in zip(cv_model[\"estimator\"], cv.split(x, y))\n",
        "    ],\n",
        "    columns=feature_names,\n",
        ")\n",
        "\n",
        "coefs"
      ],
      "metadata": {
        "colab": {
          "base_uri": "https://localhost:8080/",
          "height": 897
        },
        "id": "O_WStJyiwFql",
        "outputId": "b3b7c5e2-f84f-4fa9-879c-ed20912e179f"
      },
      "execution_count": 100,
      "outputs": [
        {
          "output_type": "execute_result",
          "data": {
            "text/plain": [
              "    sex_male  smoker_yes  region_northeast  region_northwest  \\\n",
              "0  -0.022274    0.678699          0.034504          0.011293   \n",
              "1  -0.032437    0.657186          0.045999          0.007801   \n",
              "2  -0.034872    0.678707          0.037145          0.012727   \n",
              "3  -0.037449    0.676605          0.036712          0.010640   \n",
              "4  -0.036527    0.684670          0.035745          0.008775   \n",
              "5  -0.020575    0.671365          0.038282          0.003324   \n",
              "6  -0.036975    0.682932          0.047443          0.009310   \n",
              "7  -0.035531    0.656864          0.039919          0.017638   \n",
              "8  -0.035005    0.683486          0.036770          0.007685   \n",
              "9  -0.034959    0.678950          0.028606          0.013506   \n",
              "10 -0.028604    0.687159          0.038047          0.009947   \n",
              "11 -0.028260    0.665757          0.033501          0.009631   \n",
              "12 -0.039390    0.669751          0.042442          0.007263   \n",
              "13 -0.027098    0.666798          0.030183          0.018172   \n",
              "14 -0.040666    0.686121          0.045785          0.006756   \n",
              "15 -0.031644    0.662929          0.045478          0.011202   \n",
              "16 -0.030415    0.688015          0.040579          0.009613   \n",
              "17 -0.041178    0.681180          0.036668          0.019271   \n",
              "18 -0.036266    0.671622          0.037582          0.003022   \n",
              "19 -0.024412    0.672591          0.029152          0.008889   \n",
              "20 -0.031724    0.688060          0.042431          0.004398   \n",
              "21 -0.040119    0.667856          0.036751          0.007146   \n",
              "22 -0.031131    0.675544          0.033110          0.011748   \n",
              "23 -0.024730    0.669768          0.035751          0.018292   \n",
              "24 -0.037117    0.675413          0.042129          0.009830   \n",
              "\n",
              "    region_southeast  region_southwest       age       bmi  children  \n",
              "0          -0.028223         -0.016470  0.015081  0.006135  0.042513  \n",
              "1          -0.036774         -0.017616  0.015068  0.006165  0.045869  \n",
              "2          -0.030392         -0.018762  0.014438  0.006508  0.041976  \n",
              "3          -0.027553         -0.020348  0.015316  0.005623  0.047211  \n",
              "4          -0.028157         -0.016498  0.015205  0.004552  0.043439  \n",
              "5          -0.030651         -0.011046  0.014900  0.005359  0.041673  \n",
              "6          -0.034042         -0.021817  0.014931  0.006963  0.043065  \n",
              "7          -0.027994         -0.028972  0.015204  0.005613  0.045255  \n",
              "8          -0.025741         -0.018340  0.014920  0.004652  0.045196  \n",
              "9          -0.032443         -0.010320  0.015176  0.006309  0.046243  \n",
              "10         -0.032577         -0.015841  0.015026  0.006529  0.041223  \n",
              "11         -0.026182         -0.017024  0.014855  0.005451  0.045276  \n",
              "12         -0.029288         -0.020369  0.014898  0.006024  0.045922  \n",
              "13         -0.029154         -0.019092  0.015012  0.005616  0.044086  \n",
              "14         -0.034667         -0.018115  0.015318  0.005386  0.045039  \n",
              "15         -0.040911         -0.015700  0.014641  0.006499  0.044174  \n",
              "16         -0.034140         -0.015979  0.015204  0.006062  0.044345  \n",
              "17         -0.032108         -0.023182  0.015581  0.005194  0.046799  \n",
              "18         -0.019149         -0.021445  0.015131  0.005136  0.044722  \n",
              "19         -0.024081         -0.013950  0.014565  0.006082  0.041216  \n",
              "20         -0.026615         -0.020639  0.014992  0.005388  0.043248  \n",
              "21         -0.031007         -0.012669  0.014961  0.006068  0.041460  \n",
              "22         -0.023006         -0.021615  0.014655  0.005786  0.043260  \n",
              "23         -0.036976         -0.017309  0.014985  0.006482  0.046243  \n",
              "24         -0.033814         -0.018647  0.015521  0.005327  0.046760  "
            ],
            "text/html": [
              "\n",
              "  <div id=\"df-5fbf97a5-4b74-4878-87ae-f1ab4818870a\">\n",
              "    <div class=\"colab-df-container\">\n",
              "      <div>\n",
              "<style scoped>\n",
              "    .dataframe tbody tr th:only-of-type {\n",
              "        vertical-align: middle;\n",
              "    }\n",
              "\n",
              "    .dataframe tbody tr th {\n",
              "        vertical-align: top;\n",
              "    }\n",
              "\n",
              "    .dataframe thead th {\n",
              "        text-align: right;\n",
              "    }\n",
              "</style>\n",
              "<table border=\"1\" class=\"dataframe\">\n",
              "  <thead>\n",
              "    <tr style=\"text-align: right;\">\n",
              "      <th></th>\n",
              "      <th>sex_male</th>\n",
              "      <th>smoker_yes</th>\n",
              "      <th>region_northeast</th>\n",
              "      <th>region_northwest</th>\n",
              "      <th>region_southeast</th>\n",
              "      <th>region_southwest</th>\n",
              "      <th>age</th>\n",
              "      <th>bmi</th>\n",
              "      <th>children</th>\n",
              "    </tr>\n",
              "  </thead>\n",
              "  <tbody>\n",
              "    <tr>\n",
              "      <th>0</th>\n",
              "      <td>-0.022274</td>\n",
              "      <td>0.678699</td>\n",
              "      <td>0.034504</td>\n",
              "      <td>0.011293</td>\n",
              "      <td>-0.028223</td>\n",
              "      <td>-0.016470</td>\n",
              "      <td>0.015081</td>\n",
              "      <td>0.006135</td>\n",
              "      <td>0.042513</td>\n",
              "    </tr>\n",
              "    <tr>\n",
              "      <th>1</th>\n",
              "      <td>-0.032437</td>\n",
              "      <td>0.657186</td>\n",
              "      <td>0.045999</td>\n",
              "      <td>0.007801</td>\n",
              "      <td>-0.036774</td>\n",
              "      <td>-0.017616</td>\n",
              "      <td>0.015068</td>\n",
              "      <td>0.006165</td>\n",
              "      <td>0.045869</td>\n",
              "    </tr>\n",
              "    <tr>\n",
              "      <th>2</th>\n",
              "      <td>-0.034872</td>\n",
              "      <td>0.678707</td>\n",
              "      <td>0.037145</td>\n",
              "      <td>0.012727</td>\n",
              "      <td>-0.030392</td>\n",
              "      <td>-0.018762</td>\n",
              "      <td>0.014438</td>\n",
              "      <td>0.006508</td>\n",
              "      <td>0.041976</td>\n",
              "    </tr>\n",
              "    <tr>\n",
              "      <th>3</th>\n",
              "      <td>-0.037449</td>\n",
              "      <td>0.676605</td>\n",
              "      <td>0.036712</td>\n",
              "      <td>0.010640</td>\n",
              "      <td>-0.027553</td>\n",
              "      <td>-0.020348</td>\n",
              "      <td>0.015316</td>\n",
              "      <td>0.005623</td>\n",
              "      <td>0.047211</td>\n",
              "    </tr>\n",
              "    <tr>\n",
              "      <th>4</th>\n",
              "      <td>-0.036527</td>\n",
              "      <td>0.684670</td>\n",
              "      <td>0.035745</td>\n",
              "      <td>0.008775</td>\n",
              "      <td>-0.028157</td>\n",
              "      <td>-0.016498</td>\n",
              "      <td>0.015205</td>\n",
              "      <td>0.004552</td>\n",
              "      <td>0.043439</td>\n",
              "    </tr>\n",
              "    <tr>\n",
              "      <th>5</th>\n",
              "      <td>-0.020575</td>\n",
              "      <td>0.671365</td>\n",
              "      <td>0.038282</td>\n",
              "      <td>0.003324</td>\n",
              "      <td>-0.030651</td>\n",
              "      <td>-0.011046</td>\n",
              "      <td>0.014900</td>\n",
              "      <td>0.005359</td>\n",
              "      <td>0.041673</td>\n",
              "    </tr>\n",
              "    <tr>\n",
              "      <th>6</th>\n",
              "      <td>-0.036975</td>\n",
              "      <td>0.682932</td>\n",
              "      <td>0.047443</td>\n",
              "      <td>0.009310</td>\n",
              "      <td>-0.034042</td>\n",
              "      <td>-0.021817</td>\n",
              "      <td>0.014931</td>\n",
              "      <td>0.006963</td>\n",
              "      <td>0.043065</td>\n",
              "    </tr>\n",
              "    <tr>\n",
              "      <th>7</th>\n",
              "      <td>-0.035531</td>\n",
              "      <td>0.656864</td>\n",
              "      <td>0.039919</td>\n",
              "      <td>0.017638</td>\n",
              "      <td>-0.027994</td>\n",
              "      <td>-0.028972</td>\n",
              "      <td>0.015204</td>\n",
              "      <td>0.005613</td>\n",
              "      <td>0.045255</td>\n",
              "    </tr>\n",
              "    <tr>\n",
              "      <th>8</th>\n",
              "      <td>-0.035005</td>\n",
              "      <td>0.683486</td>\n",
              "      <td>0.036770</td>\n",
              "      <td>0.007685</td>\n",
              "      <td>-0.025741</td>\n",
              "      <td>-0.018340</td>\n",
              "      <td>0.014920</td>\n",
              "      <td>0.004652</td>\n",
              "      <td>0.045196</td>\n",
              "    </tr>\n",
              "    <tr>\n",
              "      <th>9</th>\n",
              "      <td>-0.034959</td>\n",
              "      <td>0.678950</td>\n",
              "      <td>0.028606</td>\n",
              "      <td>0.013506</td>\n",
              "      <td>-0.032443</td>\n",
              "      <td>-0.010320</td>\n",
              "      <td>0.015176</td>\n",
              "      <td>0.006309</td>\n",
              "      <td>0.046243</td>\n",
              "    </tr>\n",
              "    <tr>\n",
              "      <th>10</th>\n",
              "      <td>-0.028604</td>\n",
              "      <td>0.687159</td>\n",
              "      <td>0.038047</td>\n",
              "      <td>0.009947</td>\n",
              "      <td>-0.032577</td>\n",
              "      <td>-0.015841</td>\n",
              "      <td>0.015026</td>\n",
              "      <td>0.006529</td>\n",
              "      <td>0.041223</td>\n",
              "    </tr>\n",
              "    <tr>\n",
              "      <th>11</th>\n",
              "      <td>-0.028260</td>\n",
              "      <td>0.665757</td>\n",
              "      <td>0.033501</td>\n",
              "      <td>0.009631</td>\n",
              "      <td>-0.026182</td>\n",
              "      <td>-0.017024</td>\n",
              "      <td>0.014855</td>\n",
              "      <td>0.005451</td>\n",
              "      <td>0.045276</td>\n",
              "    </tr>\n",
              "    <tr>\n",
              "      <th>12</th>\n",
              "      <td>-0.039390</td>\n",
              "      <td>0.669751</td>\n",
              "      <td>0.042442</td>\n",
              "      <td>0.007263</td>\n",
              "      <td>-0.029288</td>\n",
              "      <td>-0.020369</td>\n",
              "      <td>0.014898</td>\n",
              "      <td>0.006024</td>\n",
              "      <td>0.045922</td>\n",
              "    </tr>\n",
              "    <tr>\n",
              "      <th>13</th>\n",
              "      <td>-0.027098</td>\n",
              "      <td>0.666798</td>\n",
              "      <td>0.030183</td>\n",
              "      <td>0.018172</td>\n",
              "      <td>-0.029154</td>\n",
              "      <td>-0.019092</td>\n",
              "      <td>0.015012</td>\n",
              "      <td>0.005616</td>\n",
              "      <td>0.044086</td>\n",
              "    </tr>\n",
              "    <tr>\n",
              "      <th>14</th>\n",
              "      <td>-0.040666</td>\n",
              "      <td>0.686121</td>\n",
              "      <td>0.045785</td>\n",
              "      <td>0.006756</td>\n",
              "      <td>-0.034667</td>\n",
              "      <td>-0.018115</td>\n",
              "      <td>0.015318</td>\n",
              "      <td>0.005386</td>\n",
              "      <td>0.045039</td>\n",
              "    </tr>\n",
              "    <tr>\n",
              "      <th>15</th>\n",
              "      <td>-0.031644</td>\n",
              "      <td>0.662929</td>\n",
              "      <td>0.045478</td>\n",
              "      <td>0.011202</td>\n",
              "      <td>-0.040911</td>\n",
              "      <td>-0.015700</td>\n",
              "      <td>0.014641</td>\n",
              "      <td>0.006499</td>\n",
              "      <td>0.044174</td>\n",
              "    </tr>\n",
              "    <tr>\n",
              "      <th>16</th>\n",
              "      <td>-0.030415</td>\n",
              "      <td>0.688015</td>\n",
              "      <td>0.040579</td>\n",
              "      <td>0.009613</td>\n",
              "      <td>-0.034140</td>\n",
              "      <td>-0.015979</td>\n",
              "      <td>0.015204</td>\n",
              "      <td>0.006062</td>\n",
              "      <td>0.044345</td>\n",
              "    </tr>\n",
              "    <tr>\n",
              "      <th>17</th>\n",
              "      <td>-0.041178</td>\n",
              "      <td>0.681180</td>\n",
              "      <td>0.036668</td>\n",
              "      <td>0.019271</td>\n",
              "      <td>-0.032108</td>\n",
              "      <td>-0.023182</td>\n",
              "      <td>0.015581</td>\n",
              "      <td>0.005194</td>\n",
              "      <td>0.046799</td>\n",
              "    </tr>\n",
              "    <tr>\n",
              "      <th>18</th>\n",
              "      <td>-0.036266</td>\n",
              "      <td>0.671622</td>\n",
              "      <td>0.037582</td>\n",
              "      <td>0.003022</td>\n",
              "      <td>-0.019149</td>\n",
              "      <td>-0.021445</td>\n",
              "      <td>0.015131</td>\n",
              "      <td>0.005136</td>\n",
              "      <td>0.044722</td>\n",
              "    </tr>\n",
              "    <tr>\n",
              "      <th>19</th>\n",
              "      <td>-0.024412</td>\n",
              "      <td>0.672591</td>\n",
              "      <td>0.029152</td>\n",
              "      <td>0.008889</td>\n",
              "      <td>-0.024081</td>\n",
              "      <td>-0.013950</td>\n",
              "      <td>0.014565</td>\n",
              "      <td>0.006082</td>\n",
              "      <td>0.041216</td>\n",
              "    </tr>\n",
              "    <tr>\n",
              "      <th>20</th>\n",
              "      <td>-0.031724</td>\n",
              "      <td>0.688060</td>\n",
              "      <td>0.042431</td>\n",
              "      <td>0.004398</td>\n",
              "      <td>-0.026615</td>\n",
              "      <td>-0.020639</td>\n",
              "      <td>0.014992</td>\n",
              "      <td>0.005388</td>\n",
              "      <td>0.043248</td>\n",
              "    </tr>\n",
              "    <tr>\n",
              "      <th>21</th>\n",
              "      <td>-0.040119</td>\n",
              "      <td>0.667856</td>\n",
              "      <td>0.036751</td>\n",
              "      <td>0.007146</td>\n",
              "      <td>-0.031007</td>\n",
              "      <td>-0.012669</td>\n",
              "      <td>0.014961</td>\n",
              "      <td>0.006068</td>\n",
              "      <td>0.041460</td>\n",
              "    </tr>\n",
              "    <tr>\n",
              "      <th>22</th>\n",
              "      <td>-0.031131</td>\n",
              "      <td>0.675544</td>\n",
              "      <td>0.033110</td>\n",
              "      <td>0.011748</td>\n",
              "      <td>-0.023006</td>\n",
              "      <td>-0.021615</td>\n",
              "      <td>0.014655</td>\n",
              "      <td>0.005786</td>\n",
              "      <td>0.043260</td>\n",
              "    </tr>\n",
              "    <tr>\n",
              "      <th>23</th>\n",
              "      <td>-0.024730</td>\n",
              "      <td>0.669768</td>\n",
              "      <td>0.035751</td>\n",
              "      <td>0.018292</td>\n",
              "      <td>-0.036976</td>\n",
              "      <td>-0.017309</td>\n",
              "      <td>0.014985</td>\n",
              "      <td>0.006482</td>\n",
              "      <td>0.046243</td>\n",
              "    </tr>\n",
              "    <tr>\n",
              "      <th>24</th>\n",
              "      <td>-0.037117</td>\n",
              "      <td>0.675413</td>\n",
              "      <td>0.042129</td>\n",
              "      <td>0.009830</td>\n",
              "      <td>-0.033814</td>\n",
              "      <td>-0.018647</td>\n",
              "      <td>0.015521</td>\n",
              "      <td>0.005327</td>\n",
              "      <td>0.046760</td>\n",
              "    </tr>\n",
              "  </tbody>\n",
              "</table>\n",
              "</div>\n",
              "      <button class=\"colab-df-convert\" onclick=\"convertToInteractive('df-5fbf97a5-4b74-4878-87ae-f1ab4818870a')\"\n",
              "              title=\"Convert this dataframe to an interactive table.\"\n",
              "              style=\"display:none;\">\n",
              "        \n",
              "  <svg xmlns=\"http://www.w3.org/2000/svg\" height=\"24px\"viewBox=\"0 0 24 24\"\n",
              "       width=\"24px\">\n",
              "    <path d=\"M0 0h24v24H0V0z\" fill=\"none\"/>\n",
              "    <path d=\"M18.56 5.44l.94 2.06.94-2.06 2.06-.94-2.06-.94-.94-2.06-.94 2.06-2.06.94zm-11 1L8.5 8.5l.94-2.06 2.06-.94-2.06-.94L8.5 2.5l-.94 2.06-2.06.94zm10 10l.94 2.06.94-2.06 2.06-.94-2.06-.94-.94-2.06-.94 2.06-2.06.94z\"/><path d=\"M17.41 7.96l-1.37-1.37c-.4-.4-.92-.59-1.43-.59-.52 0-1.04.2-1.43.59L10.3 9.45l-7.72 7.72c-.78.78-.78 2.05 0 2.83L4 21.41c.39.39.9.59 1.41.59.51 0 1.02-.2 1.41-.59l7.78-7.78 2.81-2.81c.8-.78.8-2.07 0-2.86zM5.41 20L4 18.59l7.72-7.72 1.47 1.35L5.41 20z\"/>\n",
              "  </svg>\n",
              "      </button>\n",
              "      \n",
              "  <style>\n",
              "    .colab-df-container {\n",
              "      display:flex;\n",
              "      flex-wrap:wrap;\n",
              "      gap: 12px;\n",
              "    }\n",
              "\n",
              "    .colab-df-convert {\n",
              "      background-color: #E8F0FE;\n",
              "      border: none;\n",
              "      border-radius: 50%;\n",
              "      cursor: pointer;\n",
              "      display: none;\n",
              "      fill: #1967D2;\n",
              "      height: 32px;\n",
              "      padding: 0 0 0 0;\n",
              "      width: 32px;\n",
              "    }\n",
              "\n",
              "    .colab-df-convert:hover {\n",
              "      background-color: #E2EBFA;\n",
              "      box-shadow: 0px 1px 2px rgba(60, 64, 67, 0.3), 0px 1px 3px 1px rgba(60, 64, 67, 0.15);\n",
              "      fill: #174EA6;\n",
              "    }\n",
              "\n",
              "    [theme=dark] .colab-df-convert {\n",
              "      background-color: #3B4455;\n",
              "      fill: #D2E3FC;\n",
              "    }\n",
              "\n",
              "    [theme=dark] .colab-df-convert:hover {\n",
              "      background-color: #434B5C;\n",
              "      box-shadow: 0px 1px 3px 1px rgba(0, 0, 0, 0.15);\n",
              "      filter: drop-shadow(0px 1px 2px rgba(0, 0, 0, 0.3));\n",
              "      fill: #FFFFFF;\n",
              "    }\n",
              "  </style>\n",
              "\n",
              "      <script>\n",
              "        const buttonEl =\n",
              "          document.querySelector('#df-5fbf97a5-4b74-4878-87ae-f1ab4818870a button.colab-df-convert');\n",
              "        buttonEl.style.display =\n",
              "          google.colab.kernel.accessAllowed ? 'block' : 'none';\n",
              "\n",
              "        async function convertToInteractive(key) {\n",
              "          const element = document.querySelector('#df-5fbf97a5-4b74-4878-87ae-f1ab4818870a');\n",
              "          const dataTable =\n",
              "            await google.colab.kernel.invokeFunction('convertToInteractive',\n",
              "                                                     [key], {});\n",
              "          if (!dataTable) return;\n",
              "\n",
              "          const docLinkHtml = 'Like what you see? Visit the ' +\n",
              "            '<a target=\"_blank\" href=https://colab.research.google.com/notebooks/data_table.ipynb>data table notebook</a>'\n",
              "            + ' to learn more about interactive tables.';\n",
              "          element.innerHTML = '';\n",
              "          dataTable['output_type'] = 'display_data';\n",
              "          await google.colab.output.renderOutput(dataTable, element);\n",
              "          const docLink = document.createElement('div');\n",
              "          docLink.innerHTML = docLinkHtml;\n",
              "          element.appendChild(docLink);\n",
              "        }\n",
              "      </script>\n",
              "    </div>\n",
              "  </div>\n",
              "  "
            ]
          },
          "metadata": {},
          "execution_count": 100
        }
      ]
    },
    {
      "cell_type": "markdown",
      "source": [
        "En este código, se realiza una validación cruzada repetida para evaluar el rendimiento del modelo en múltiples divisiones del conjunto de datos.\n",
        "\n",
        "\n",
        "Cada fila del DataFrame representa los coeficientes de un modelo ajustado en una división específica."
      ],
      "metadata": {
        "id": "m1bRWef4HUnm"
      }
    },
    {
      "cell_type": "code",
      "source": [
        "plt.figure(figsize=(5, 5))\n",
        "sns.stripplot(data=coefs, orient=\"h\", color=\"k\", alpha=0.5)\n",
        "sns.boxplot(data=coefs, orient=\"h\", color=\"cyan\", saturation=0.5)\n",
        "plt.axvline(x=0, color=\"0.5\")\n",
        "plt.title(\"Coeficiente de importancia y su variabilidad\")\n",
        "plt.xlabel(\"Coeficiente de importancia\")\n",
        "plt.show()"
      ],
      "metadata": {
        "colab": {
          "base_uri": "https://localhost:8080/",
          "height": 543
        },
        "id": "lZ8a6G75Bhkv",
        "outputId": "66b229ec-0fb7-4947-fac9-5cae1eb19a76"
      },
      "execution_count": 101,
      "outputs": [
        {
          "output_type": "stream",
          "name": "stderr",
          "text": [
            "/usr/local/lib/python3.10/dist-packages/seaborn/categorical.py:166: FutureWarning: Setting a gradient palette using color= is deprecated and will be removed in version 0.13. Set `palette='dark:k'` for same effect.\n",
            "  warnings.warn(msg, FutureWarning)\n"
          ]
        },
        {
          "output_type": "display_data",
          "data": {
            "text/plain": [
              "<Figure size 500x500 with 1 Axes>"
            ],
            "image/png": "[encoded data removed]"
          },
          "metadata": {}
        }
      ]
    },
    {
      "cell_type": "markdown",
      "source": [
        "Este último gráfico muestra la importancia relativa de los coeficientes del modelo y su variabilidad a través de la validación cruzada. Los puntos individuales representan los valores de los coeficientes en cada división, y las cajas resumen la distribución de los valores.\n",
        "\n",
        "Vemos que fumar o no es muy relevante y se considera un coeficiente importante.\n",
        "\n",
        "\n",
        "\n",
        "\n"
      ],
      "metadata": {
        "id": "XStsl_-vIWRa"
      }
    },
    {
      "cell_type": "markdown",
      "source": [
        "# EJERCICIO 2"
      ],
      "metadata": {
        "id": "l-WFM5iyTeUg"
      }
    },
    {
      "cell_type": "code",
      "source": [
        "import pickle\n"
      ],
      "metadata": {
        "id": "-ifQdqxIPKvU"
      },
      "execution_count": 102,
      "outputs": []
    },
    {
      "cell_type": "code",
      "source": [
        "with open('modelo.pkl', 'wb') as file:\n",
        "    pickle.dump(model, file)\n"
      ],
      "metadata": {
        "id": "r5oWgFXdPLDZ"
      },
      "execution_count": 103,
      "outputs": []
    },
    {
      "cell_type": "code",
      "source": [
        "\n",
        "# Cargar el modelo desde el archivo pkl\n",
        "with open('modelo.pkl', 'rb') as file:\n",
        "     model = pickle.load(file)"
      ],
      "metadata": {
        "id": "zbT4Sv-gN_gN"
      },
      "execution_count": 104,
      "outputs": []
    },
    {
      "cell_type": "markdown",
      "source": [
        "# EJERCICIO 3"
      ],
      "metadata": {
        "id": "61c1gh8xThSX"
      }
    },
    {
      "cell_type": "code",
      "source": [
        "from flask import Flask, request, jsonify\n",
        "import pickle\n",
        "\n",
        "# Cargar el modelo entrenado desde el archivo pkl\n",
        "with open('modelo.pkl', 'rb') as file:\n",
        "    model = pickle.load(file)\n",
        "\n",
        "# Inicializar la aplicación Flask\n",
        "app = Flask(__name__)\n",
        "\n",
        "# Definir la ruta y el método para realizar predicciones\n",
        "@app.route('/predict', methods=['POST'])\n",
        "def predict():\n",
        "    # Obtener los datos de la solicitud\n",
        "    data = request.json\n",
        "\n",
        "    # Realizar la predicción utilizando el modelo cargado\n",
        "    prediction = model.predict([data['features']])\n",
        "\n",
        "    # Devolver la predicción como respuesta en formato JSON\n",
        "    response = {'prediction': prediction.tolist()}\n",
        "    return jsonify(response)\n",
        "\n",
        "# Especificar la configuración para ejecutar la aplicación en todas las interfaces de red\n",
        "if __name__ == '__main__':\n",
        "    app.run()\n"
      ],
      "metadata": {
        "colab": {
          "base_uri": "https://localhost:8080/"
        },
        "id": "mC9YG91oEyUm",
        "outputId": "7965f97b-41fe-49b1-a7be-9f777612e1ec"
      },
      "execution_count": 112,
      "outputs": [
        {
          "output_type": "stream",
          "name": "stdout",
          "text": [
            " * Serving Flask app '__main__'\n",
            " * Debug mode: off\n"
          ]
        },
        {
          "output_type": "stream",
          "name": "stderr",
          "text": [
            "INFO:werkzeug:\u001b[31m\u001b[1mWARNING: This is a development server. Do not use it in a production deployment. Use a production WSGI server instead.\u001b[0m\n",
            " * Running on http://127.0.0.1:5000\n",
            "INFO:werkzeug:\u001b[33mPress CTRL+C to quit\u001b[0m\n"
          ]
        }
      ]
    },
    {
      "cell_type": "code",
      "source": [],
      "metadata": {
        "id": "bGyrNuVqM4E2"
      },
      "execution_count": null,
      "outputs": []
    },
    {
      "cell_type": "markdown",
      "source": [
        "# EXTRA"
      ],
      "metadata": {
        "id": "1wCLzgjZTjaT"
      }
    },
    {
      "cell_type": "code",
      "source": [
        "pip install tox\n"
      ],
      "metadata": {
        "colab": {
          "base_uri": "https://localhost:8080/"
        },
        "id": "G6pbDTdsTk52",
        "outputId": "81580818-305d-47ff-e7d6-1399691b391f"
      },
      "execution_count": 113,
      "outputs": [
        {
          "output_type": "stream",
          "name": "stdout",
          "text": [
            "Looking in indexes: https://pypi.org/simple, https://us-python.pkg.dev/colab-wheels/public/simple/\n",
            "Collecting tox\n",
            "  Downloading tox-4.6.2-py3-none-any.whl (151 kB)\n",
            "\u001b[2K     \u001b[90m━━━━━━━━━━━━━━━━━━━━━━━━━━━━━━━━━━━━━━━\u001b[0m \u001b[32m152.0/152.0 kB\u001b[0m \u001b[31m6.3 MB/s\u001b[0m eta \u001b[36m0:00:00\u001b[0m\n",
            "\u001b[?25hCollecting cachetools>=5.3.1 (from tox)\n",
            "  Downloading cachetools-5.3.1-py3-none-any.whl (9.3 kB)\n",
            "Collecting chardet>=5.1 (from tox)\n",
            "  Downloading chardet-5.1.0-py3-none-any.whl (199 kB)\n",
            "\u001b[2K     \u001b[90m━━━━━━━━━━━━━━━━━━━━━━━━━━━━━━━━━━━━━━\u001b[0m \u001b[32m199.1/199.1 kB\u001b[0m \u001b[31m16.4 MB/s\u001b[0m eta \u001b[36m0:00:00\u001b[0m\n",
            "\u001b[?25hCollecting colorama>=0.4.6 (from tox)\n",
            "  Downloading colorama-0.4.6-py2.py3-none-any.whl (25 kB)\n",
            "Collecting filelock>=3.12.2 (from tox)\n",
            "  Downloading filelock-3.12.2-py3-none-any.whl (10 kB)\n",
            "Requirement already satisfied: packaging>=23.1 in /usr/local/lib/python3.10/dist-packages (from tox) (23.1)\n",
            "Collecting platformdirs>=3.5.3 (from tox)\n",
            "  Downloading platformdirs-3.6.0-py3-none-any.whl (16 kB)\n",
            "Requirement already satisfied: pluggy>=1 in /usr/local/lib/python3.10/dist-packages (from tox) (1.0.0)\n",
            "Collecting pyproject-api>=1.5.2 (from tox)\n",
            "  Downloading pyproject_api-1.5.2-py3-none-any.whl (12 kB)\n",
            "Requirement already satisfied: tomli>=2.0.1 in /usr/local/lib/python3.10/dist-packages (from tox) (2.0.1)\n",
            "Collecting virtualenv>=20.23.1 (from tox)\n",
            "  Downloading virtualenv-20.23.1-py3-none-any.whl (3.3 MB)\n",
            "\u001b[2K     \u001b[90m━━━━━━━━━━━━━━━━━━━━━━━━━━━━━━━━━━━━━━━━\u001b[0m \u001b[32m3.3/3.3 MB\u001b[0m \u001b[31m69.1 MB/s\u001b[0m eta \u001b[36m0:00:00\u001b[0m\n",
            "\u001b[?25hCollecting distlib<1,>=0.3.6 (from virtualenv>=20.23.1->tox)\n",
            "  Downloading distlib-0.3.6-py2.py3-none-any.whl (468 kB)\n",
            "\u001b[2K     \u001b[90m━━━━━━━━━━━━━━━━━━━━━━━━━━━━━━━━━━━━━━\u001b[0m \u001b[32m468.5/468.5 kB\u001b[0m \u001b[31m46.9 MB/s\u001b[0m eta \u001b[36m0:00:00\u001b[0m\n",
            "\u001b[?25hInstalling collected packages: distlib, pyproject-api, platformdirs, filelock, colorama, chardet, cachetools, virtualenv, tox\n",
            "  Attempting uninstall: platformdirs\n",
            "    Found existing installation: platformdirs 3.3.0\n",
            "    Uninstalling platformdirs-3.3.0:\n",
            "      Successfully uninstalled platformdirs-3.3.0\n",
            "  Attempting uninstall: filelock\n",
            "    Found existing installation: filelock 3.12.0\n",
            "    Uninstalling filelock-3.12.0:\n",
            "      Successfully uninstalled filelock-3.12.0\n",
            "  Attempting uninstall: chardet\n",
            "    Found existing installation: chardet 4.0.0\n",
            "    Uninstalling chardet-4.0.0:\n",
            "      Successfully uninstalled chardet-4.0.0\n",
            "  Attempting uninstall: cachetools\n",
            "    Found existing installation: cachetools 5.3.0\n",
            "    Uninstalling cachetools-5.3.0:\n",
            "      Successfully uninstalled cachetools-5.3.0\n",
            "Successfully installed cachetools-5.3.1 chardet-5.1.0 colorama-0.4.6 distlib-0.3.6 filelock-3.12.2 platformdirs-3.6.0 pyproject-api-1.5.2 tox-4.6.2 virtualenv-20.23.1\n"
          ]
        }
      ]
    },
    {
      "cell_type": "code",
      "source": [
        "!tox\n"
      ],
      "metadata": {
        "colab": {
          "base_uri": "https://localhost:8080/"
        },
        "id": "l4gVxZcdTp3d",
        "outputId": "bcce7698-1221-4852-a42e-79656d360d36"
      },
      "execution_count": 114,
      "outputs": [
        {
          "output_type": "stream",
          "name": "stdout",
          "text": [
            "\u001b[1m\u001b[35mpy3:\u001b[0m\u001b[36m install_deps\u001b[22m\u001b[2m>\u001b[0m python -I -m pip install pytest\u001b[0m\n",
            "\u001b[1m\u001b[35mpy3:\u001b[0m\u001b[36m commands[0]\u001b[22m\u001b[2m>\u001b[0m pytest\u001b[0m\n",
            "\u001b[1m============================= test session starts ==============================\u001b[0m\n",
            "platform linux -- Python 3.10.12, pytest-7.3.2, pluggy-1.0.0\n",
            "cachedir: .tox/py3/.pytest_cache\n",
            "rootdir: /content\n",
            "collected 1 item                                                               \u001b[0m\n",
            "\n",
            "test_example.py \u001b[32m.\u001b[0m\u001b[32m                                                        [100%]\u001b[0m\n",
            "\n",
            "\u001b[32m============================== \u001b[32m\u001b[1m1 passed\u001b[0m\u001b[32m in 0.02s\u001b[0m\u001b[32m ===============================\u001b[0m\n",
            "\u001b[32m  py3: OK (9.25=setup[8.84]+cmd[0.40] seconds)\u001b[39m\n",
            "\u001b[32m  congratulations :) (9.38 seconds)\u001b[39m\n",
            "\u001b[0m"
          ]
        }
      ]
    },
    {
      "cell_type": "code",
      "source": [],
      "metadata": {
        "id": "JdnGioMTU0Nx"
      },
      "execution_count": null,
      "outputs": []
    }
  ]
}